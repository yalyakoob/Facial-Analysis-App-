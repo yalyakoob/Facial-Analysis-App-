{
 "cells": [
  {
   "cell_type": "code",
   "execution_count": 1,
   "id": "68e939c7",
   "metadata": {},
   "outputs": [],
   "source": [
    "import numpy as np \n",
    "import pandas as pd\n",
    "import pickle "
   ]
  },
  {
   "cell_type": "markdown",
   "id": "0ddd360c",
   "metadata": {},
   "source": [
    "## Load Processed Vectorized Data"
   ]
  },
  {
   "cell_type": "code",
   "execution_count": 2,
   "id": "a0b584ea",
   "metadata": {},
   "outputs": [],
   "source": [
    "data = pickle.load(open('data_face_features.pickle', mode='rb'))"
   ]
  },
  {
   "cell_type": "code",
   "execution_count": 3,
   "id": "d2eb5f50",
   "metadata": {},
   "outputs": [
    {
     "data": {
      "text/plain": [
       "dict_keys(['data', 'label'])"
      ]
     },
     "execution_count": 3,
     "metadata": {},
     "output_type": "execute_result"
    }
   ],
   "source": [
    "data.keys()"
   ]
  },
  {
   "cell_type": "markdown",
   "id": "c701d944",
   "metadata": {},
   "source": [
    "## Splitting Data"
   ]
  },
  {
   "cell_type": "code",
   "execution_count": 4,
   "id": "2eda34e7",
   "metadata": {},
   "outputs": [],
   "source": [
    "X = np.array(data['data'])\n",
    "y = np.array(data['label'])"
   ]
  },
  {
   "cell_type": "code",
   "execution_count": 5,
   "id": "66bf02fd",
   "metadata": {},
   "outputs": [
    {
     "data": {
      "text/plain": [
       "((1674, 1, 128), (1674,))"
      ]
     },
     "execution_count": 5,
     "metadata": {},
     "output_type": "execute_result"
    }
   ],
   "source": [
    "X.shape,y.shape"
   ]
  },
  {
   "cell_type": "code",
   "execution_count": 6,
   "id": "e00dedec",
   "metadata": {},
   "outputs": [],
   "source": [
    "X = X.reshape(-1,128)"
   ]
  },
  {
   "cell_type": "code",
   "execution_count": 7,
   "id": "124775ba",
   "metadata": {},
   "outputs": [
    {
     "data": {
      "text/plain": [
       "(1674, 128)"
      ]
     },
     "execution_count": 7,
     "metadata": {},
     "output_type": "execute_result"
    }
   ],
   "source": [
    "X.shape"
   ]
  },
  {
   "cell_type": "code",
   "execution_count": 8,
   "id": "160e0635",
   "metadata": {},
   "outputs": [],
   "source": [
    "from sklearn.model_selection import train_test_split"
   ]
  },
  {
   "cell_type": "code",
   "execution_count": 9,
   "id": "67a0860b",
   "metadata": {},
   "outputs": [],
   "source": [
    "X_train, X_test, y_train, y_test = train_test_split(X,y,train_size=0.8, random_state=0)"
   ]
  },
  {
   "cell_type": "code",
   "execution_count": 10,
   "id": "0a035779",
   "metadata": {},
   "outputs": [
    {
     "data": {
      "text/plain": [
       "((1339, 128), (335, 128), (1339,), (335,))"
      ]
     },
     "execution_count": 10,
     "metadata": {},
     "output_type": "execute_result"
    }
   ],
   "source": [
    "X_train.shape,X_test.shape, y_train.shape, y_test.shape"
   ]
  },
  {
   "cell_type": "markdown",
   "id": "c8015601",
   "metadata": {},
   "source": [
    "## Training Models"
   ]
  },
  {
   "cell_type": "code",
   "execution_count": 11,
   "id": "6cdb8f26",
   "metadata": {},
   "outputs": [],
   "source": [
    "from sklearn.linear_model import LogisticRegression\n",
    "from sklearn.svm import SVC\n",
    "from sklearn.ensemble import RandomForestClassifier\n",
    "from sklearn.ensemble import VotingClassifier\n",
    "from sklearn.metrics import classification_report, accuracy_score, f1_score"
   ]
  },
  {
   "cell_type": "markdown",
   "id": "449f2a6f",
   "metadata": {},
   "source": [
    "### Logistic Regression"
   ]
  },
  {
   "cell_type": "code",
   "execution_count": 12,
   "id": "af909b4d",
   "metadata": {},
   "outputs": [
    {
     "data": {
      "text/plain": [
       "LogisticRegression()"
      ]
     },
     "execution_count": 12,
     "metadata": {},
     "output_type": "execute_result"
    }
   ],
   "source": [
    "model_log = LogisticRegression()\n",
    "model_log.fit(X_train,y_train)"
   ]
  },
  {
   "cell_type": "code",
   "execution_count": 13,
   "id": "a28b2a10",
   "metadata": {},
   "outputs": [],
   "source": [
    "y_pred_train = model_log.predict(X_train)\n",
    "y_pred_test = model_log.predict(X_test)\n",
    "\n",
    "#accuracy score\n",
    "acc_train = accuracy_score(y_train,y_pred_train)\n",
    "acc_test = accuracy_score(y_test,y_pred_test)\n",
    "\n",
    "# f1-score \n",
    "f1_score_train = f1_score(y_train,y_pred_train,average='macro')\n",
    "f1_score_test= f1_score(y_test,y_pred_test,average='macro')"
   ]
  },
  {
   "cell_type": "markdown",
   "id": "c4600102",
   "metadata": {},
   "source": [
    "### Logistic Regression Evaluation Metrics"
   ]
  },
  {
   "cell_type": "code",
   "execution_count": 14,
   "id": "3bdeecaf",
   "metadata": {},
   "outputs": [
    {
     "name": "stdout",
     "output_type": "stream",
     "text": [
      "accuracy score for training set = 0.7214339058999253\n",
      "accuracy score for test set = 0.6507462686567164\n",
      "f1 score for training set = 0.6961108276565113\n",
      "f1 score score for test set = 0.6128525329570255\n"
     ]
    }
   ],
   "source": [
    "print(f'accuracy score for training set = {acc_train}')\n",
    "print(f'accuracy score for test set = {acc_test}')\n",
    "print(f'f1 score for training set = {f1_score_train}')\n",
    "print(f'f1 score score for test set = {f1_score_test}')"
   ]
  },
  {
   "cell_type": "code",
   "execution_count": 15,
   "id": "33f92bd4",
   "metadata": {},
   "outputs": [],
   "source": [
    "#function to evaluate different trained models\n",
    "def evaluation(model,x_train,y_train,x_test,y_test):\n",
    "    y_pred_train = model.predict(X_train)\n",
    "    y_pred_test = model.predict(X_test)\n",
    "\n",
    "    #accuracy score\n",
    "    acc_train = accuracy_score(y_train,y_pred_train)\n",
    "    acc_test = accuracy_score(y_test,y_pred_test)\n",
    "\n",
    "    # f1-score \n",
    "    f1_score_train = f1_score(y_train,y_pred_train,average='macro')\n",
    "    f1_score_test= f1_score(y_test,y_pred_test,average='macro')\n",
    "    print(f'accuracy score for training set = {acc_train}')\n",
    "    print(f'accuracy score for test set = {acc_test}')\n",
    "    print(f'f1 score for training set = {f1_score_train}')\n",
    "    print(f'f1 score score for test set = {f1_score_test}')"
   ]
  },
  {
   "cell_type": "markdown",
   "id": "360a49d1",
   "metadata": {},
   "source": [
    "### SVM"
   ]
  },
  {
   "cell_type": "code",
   "execution_count": 16,
   "id": "a221d830",
   "metadata": {},
   "outputs": [
    {
     "data": {
      "text/plain": [
       "SVC(probability=True)"
      ]
     },
     "execution_count": 16,
     "metadata": {},
     "output_type": "execute_result"
    }
   ],
   "source": [
    "model_svc = SVC(probability=True)\n",
    "model_svc.fit(X_train,y_train)"
   ]
  },
  {
   "cell_type": "code",
   "execution_count": 17,
   "id": "8dd366c8",
   "metadata": {},
   "outputs": [
    {
     "name": "stdout",
     "output_type": "stream",
     "text": [
      "accuracy score for training set = 0.8319641523525019\n",
      "accuracy score for test set = 0.7074626865671642\n",
      "f1 score for training set = 0.8325899156931432\n",
      "f1 score score for test set = 0.7150649550951717\n"
     ]
    }
   ],
   "source": [
    "evaluation(model_svc,X_train,y_train,X_test,y_test) #svc performs better than Log"
   ]
  },
  {
   "cell_type": "markdown",
   "id": "61a93a15",
   "metadata": {},
   "source": [
    "### Random Forest"
   ]
  },
  {
   "cell_type": "code",
   "execution_count": 18,
   "id": "6e5f4b20",
   "metadata": {},
   "outputs": [
    {
     "data": {
      "text/plain": [
       "RandomForestClassifier()"
      ]
     },
     "execution_count": 18,
     "metadata": {},
     "output_type": "execute_result"
    }
   ],
   "source": [
    "model_rf = RandomForestClassifier()\n",
    "model_rf.fit(X_train,y_train)"
   ]
  },
  {
   "cell_type": "code",
   "execution_count": 19,
   "id": "fa313ab8",
   "metadata": {},
   "outputs": [
    {
     "name": "stdout",
     "output_type": "stream",
     "text": [
      "accuracy score for training set = 1.0\n",
      "accuracy score for test set = 0.6626865671641791\n",
      "f1 score for training set = 1.0\n",
      "f1 score score for test set = 0.6598291568556367\n"
     ]
    }
   ],
   "source": [
    "evaluation(model_rf,X_train,y_train,X_test,y_test) #overfit "
   ]
  },
  {
   "cell_type": "markdown",
   "id": "0adeb70c",
   "metadata": {},
   "source": [
    "### Voting Classifier "
   ]
  },
  {
   "cell_type": "code",
   "execution_count": 20,
   "id": "67732096",
   "metadata": {},
   "outputs": [],
   "source": [
    "model_voting = VotingClassifier(estimators=[\n",
    "    ('log',LogisticRegression()),\n",
    "    ('svm',SVC(probability=True)),\n",
    "    ('rf',RandomForestClassifier())\n",
    "], voting='soft', weights=[2,3,1])"
   ]
  },
  {
   "cell_type": "code",
   "execution_count": 21,
   "id": "f020bc97",
   "metadata": {},
   "outputs": [
    {
     "data": {
      "text/plain": [
       "VotingClassifier(estimators=[('log', LogisticRegression()),\n",
       "                             ('svm', SVC(probability=True)),\n",
       "                             ('rf', RandomForestClassifier())],\n",
       "                 voting='soft', weights=[2, 3, 1])"
      ]
     },
     "execution_count": 21,
     "metadata": {},
     "output_type": "execute_result"
    }
   ],
   "source": [
    "model_voting.fit(X_train,y_train)"
   ]
  },
  {
   "cell_type": "code",
   "execution_count": 22,
   "id": "bec1b858",
   "metadata": {},
   "outputs": [
    {
     "name": "stdout",
     "output_type": "stream",
     "text": [
      "accuracy score for training set = 0.878267363704257\n",
      "accuracy score for test set = 0.7044776119402985\n",
      "f1 score for training set = 0.8834800887190104\n",
      "f1 score score for test set = 0.7216738259569547\n"
     ]
    }
   ],
   "source": [
    "evaluation(model_voting,X_train,y_train,X_test,y_test)"
   ]
  },
  {
   "cell_type": "code",
   "execution_count": 23,
   "id": "d8e1eaaf",
   "metadata": {},
   "outputs": [],
   "source": [
    "from sklearn.model_selection import GridSearchCV"
   ]
  },
  {
   "cell_type": "code",
   "execution_count": 24,
   "id": "c3bee051",
   "metadata": {},
   "outputs": [],
   "source": [
    "model_grid = GridSearchCV(model_voting,\n",
    "                          param_grid={\n",
    "                              'svm__C':[3,5,7,10],\n",
    "                              'svm__gamma':[0.1,0.3,0.5],\n",
    "                              'rf__n_estimators':[5,10,20],\n",
    "                              'rf__max_depth':[3,5,7],\n",
    "                              'voting':['soft','hard']\n",
    "                              \n",
    "                          },scoring='accuracy',cv=3,n_jobs=1,verbose=2)"
   ]
  },
  {
   "cell_type": "code",
   "execution_count": 26,
   "id": "6b4efaa6",
   "metadata": {},
   "outputs": [
    {
     "name": "stdout",
     "output_type": "stream",
     "text": [
      "Fitting 3 folds for each of 216 candidates, totalling 648 fits\n",
      "[CV] END rf__max_depth=3, rf__n_estimators=5, svm__C=3, svm__gamma=0.1, voting=soft; total time=   0.8s\n",
      "[CV] END rf__max_depth=3, rf__n_estimators=5, svm__C=3, svm__gamma=0.1, voting=soft; total time=   1.1s\n",
      "[CV] END rf__max_depth=3, rf__n_estimators=5, svm__C=3, svm__gamma=0.1, voting=soft; total time=   1.2s\n",
      "[CV] END rf__max_depth=3, rf__n_estimators=5, svm__C=3, svm__gamma=0.1, voting=hard; total time=   1.0s\n",
      "[CV] END rf__max_depth=3, rf__n_estimators=5, svm__C=3, svm__gamma=0.1, voting=hard; total time=   1.0s\n",
      "[CV] END rf__max_depth=3, rf__n_estimators=5, svm__C=3, svm__gamma=0.1, voting=hard; total time=   1.0s\n",
      "[CV] END rf__max_depth=3, rf__n_estimators=5, svm__C=3, svm__gamma=0.3, voting=soft; total time=   0.7s\n",
      "[CV] END rf__max_depth=3, rf__n_estimators=5, svm__C=3, svm__gamma=0.3, voting=soft; total time=   0.8s\n",
      "[CV] END rf__max_depth=3, rf__n_estimators=5, svm__C=3, svm__gamma=0.3, voting=soft; total time=   1.1s\n",
      "[CV] END rf__max_depth=3, rf__n_estimators=5, svm__C=3, svm__gamma=0.3, voting=hard; total time=   1.0s\n",
      "[CV] END rf__max_depth=3, rf__n_estimators=5, svm__C=3, svm__gamma=0.3, voting=hard; total time=   2.5s\n",
      "[CV] END rf__max_depth=3, rf__n_estimators=5, svm__C=3, svm__gamma=0.3, voting=hard; total time=   1.7s\n",
      "[CV] END rf__max_depth=3, rf__n_estimators=5, svm__C=3, svm__gamma=0.5, voting=soft; total time=   0.9s\n",
      "[CV] END rf__max_depth=3, rf__n_estimators=5, svm__C=3, svm__gamma=0.5, voting=soft; total time=   0.9s\n",
      "[CV] END rf__max_depth=3, rf__n_estimators=5, svm__C=3, svm__gamma=0.5, voting=soft; total time=   0.9s\n",
      "[CV] END rf__max_depth=3, rf__n_estimators=5, svm__C=3, svm__gamma=0.5, voting=hard; total time=   0.9s\n",
      "[CV] END rf__max_depth=3, rf__n_estimators=5, svm__C=3, svm__gamma=0.5, voting=hard; total time=   0.7s\n",
      "[CV] END rf__max_depth=3, rf__n_estimators=5, svm__C=3, svm__gamma=0.5, voting=hard; total time=   1.0s\n",
      "[CV] END rf__max_depth=3, rf__n_estimators=5, svm__C=5, svm__gamma=0.1, voting=soft; total time=   1.2s\n",
      "[CV] END rf__max_depth=3, rf__n_estimators=5, svm__C=5, svm__gamma=0.1, voting=soft; total time=   1.1s\n",
      "[CV] END rf__max_depth=3, rf__n_estimators=5, svm__C=5, svm__gamma=0.1, voting=soft; total time=   1.0s\n",
      "[CV] END rf__max_depth=3, rf__n_estimators=5, svm__C=5, svm__gamma=0.1, voting=hard; total time=   1.0s\n",
      "[CV] END rf__max_depth=3, rf__n_estimators=5, svm__C=5, svm__gamma=0.1, voting=hard; total time=   0.9s\n",
      "[CV] END rf__max_depth=3, rf__n_estimators=5, svm__C=5, svm__gamma=0.1, voting=hard; total time=   0.9s\n",
      "[CV] END rf__max_depth=3, rf__n_estimators=5, svm__C=5, svm__gamma=0.3, voting=soft; total time=   0.7s\n",
      "[CV] END rf__max_depth=3, rf__n_estimators=5, svm__C=5, svm__gamma=0.3, voting=soft; total time=   0.9s\n",
      "[CV] END rf__max_depth=3, rf__n_estimators=5, svm__C=5, svm__gamma=0.3, voting=soft; total time=   0.8s\n",
      "[CV] END rf__max_depth=3, rf__n_estimators=5, svm__C=5, svm__gamma=0.3, voting=hard; total time=   1.4s\n",
      "[CV] END rf__max_depth=3, rf__n_estimators=5, svm__C=5, svm__gamma=0.3, voting=hard; total time=   0.9s\n",
      "[CV] END rf__max_depth=3, rf__n_estimators=5, svm__C=5, svm__gamma=0.3, voting=hard; total time=   0.9s\n",
      "[CV] END rf__max_depth=3, rf__n_estimators=5, svm__C=5, svm__gamma=0.5, voting=soft; total time=   1.0s\n",
      "[CV] END rf__max_depth=3, rf__n_estimators=5, svm__C=5, svm__gamma=0.5, voting=soft; total time=   1.0s\n",
      "[CV] END rf__max_depth=3, rf__n_estimators=5, svm__C=5, svm__gamma=0.5, voting=soft; total time=   0.9s\n",
      "[CV] END rf__max_depth=3, rf__n_estimators=5, svm__C=5, svm__gamma=0.5, voting=hard; total time=   0.6s\n",
      "[CV] END rf__max_depth=3, rf__n_estimators=5, svm__C=5, svm__gamma=0.5, voting=hard; total time=   0.8s\n",
      "[CV] END rf__max_depth=3, rf__n_estimators=5, svm__C=5, svm__gamma=0.5, voting=hard; total time=   0.8s\n",
      "[CV] END rf__max_depth=3, rf__n_estimators=5, svm__C=7, svm__gamma=0.1, voting=soft; total time=   0.9s\n",
      "[CV] END rf__max_depth=3, rf__n_estimators=5, svm__C=7, svm__gamma=0.1, voting=soft; total time=   0.9s\n",
      "[CV] END rf__max_depth=3, rf__n_estimators=5, svm__C=7, svm__gamma=0.1, voting=soft; total time=   0.9s\n",
      "[CV] END rf__max_depth=3, rf__n_estimators=5, svm__C=7, svm__gamma=0.1, voting=hard; total time=   0.8s\n",
      "[CV] END rf__max_depth=3, rf__n_estimators=5, svm__C=7, svm__gamma=0.1, voting=hard; total time=   0.7s\n",
      "[CV] END rf__max_depth=3, rf__n_estimators=5, svm__C=7, svm__gamma=0.1, voting=hard; total time=   0.9s\n",
      "[CV] END rf__max_depth=3, rf__n_estimators=5, svm__C=7, svm__gamma=0.3, voting=soft; total time=   1.4s\n",
      "[CV] END rf__max_depth=3, rf__n_estimators=5, svm__C=7, svm__gamma=0.3, voting=soft; total time=   0.9s\n",
      "[CV] END rf__max_depth=3, rf__n_estimators=5, svm__C=7, svm__gamma=0.3, voting=soft; total time=   0.9s\n",
      "[CV] END rf__max_depth=3, rf__n_estimators=5, svm__C=7, svm__gamma=0.3, voting=hard; total time=   0.9s\n",
      "[CV] END rf__max_depth=3, rf__n_estimators=5, svm__C=7, svm__gamma=0.3, voting=hard; total time=   0.8s\n",
      "[CV] END rf__max_depth=3, rf__n_estimators=5, svm__C=7, svm__gamma=0.3, voting=hard; total time=   0.8s\n",
      "[CV] END rf__max_depth=3, rf__n_estimators=5, svm__C=7, svm__gamma=0.5, voting=soft; total time=   0.8s\n",
      "[CV] END rf__max_depth=3, rf__n_estimators=5, svm__C=7, svm__gamma=0.5, voting=soft; total time=   1.0s\n",
      "[CV] END rf__max_depth=3, rf__n_estimators=5, svm__C=7, svm__gamma=0.5, voting=soft; total time=   1.0s\n",
      "[CV] END rf__max_depth=3, rf__n_estimators=5, svm__C=7, svm__gamma=0.5, voting=hard; total time=   1.0s\n",
      "[CV] END rf__max_depth=3, rf__n_estimators=5, svm__C=7, svm__gamma=0.5, voting=hard; total time=   1.0s\n",
      "[CV] END rf__max_depth=3, rf__n_estimators=5, svm__C=7, svm__gamma=0.5, voting=hard; total time=   0.9s\n",
      "[CV] END rf__max_depth=3, rf__n_estimators=5, svm__C=10, svm__gamma=0.1, voting=soft; total time=   0.9s\n",
      "[CV] END rf__max_depth=3, rf__n_estimators=5, svm__C=10, svm__gamma=0.1, voting=soft; total time=   0.6s\n",
      "[CV] END rf__max_depth=3, rf__n_estimators=5, svm__C=10, svm__gamma=0.1, voting=soft; total time=   0.7s\n",
      "[CV] END rf__max_depth=3, rf__n_estimators=5, svm__C=10, svm__gamma=0.1, voting=hard; total time=   0.9s\n",
      "[CV] END rf__max_depth=3, rf__n_estimators=5, svm__C=10, svm__gamma=0.1, voting=hard; total time=   0.9s\n",
      "[CV] END rf__max_depth=3, rf__n_estimators=5, svm__C=10, svm__gamma=0.1, voting=hard; total time=   0.9s\n",
      "[CV] END rf__max_depth=3, rf__n_estimators=5, svm__C=10, svm__gamma=0.3, voting=soft; total time=   0.9s\n",
      "[CV] END rf__max_depth=3, rf__n_estimators=5, svm__C=10, svm__gamma=0.3, voting=soft; total time=   0.8s\n",
      "[CV] END rf__max_depth=3, rf__n_estimators=5, svm__C=10, svm__gamma=0.3, voting=soft; total time=   0.6s\n",
      "[CV] END rf__max_depth=3, rf__n_estimators=5, svm__C=10, svm__gamma=0.3, voting=hard; total time=   0.8s\n",
      "[CV] END rf__max_depth=3, rf__n_estimators=5, svm__C=10, svm__gamma=0.3, voting=hard; total time=   0.8s\n",
      "[CV] END rf__max_depth=3, rf__n_estimators=5, svm__C=10, svm__gamma=0.3, voting=hard; total time=   1.1s\n",
      "[CV] END rf__max_depth=3, rf__n_estimators=5, svm__C=10, svm__gamma=0.5, voting=soft; total time=   1.4s\n",
      "[CV] END rf__max_depth=3, rf__n_estimators=5, svm__C=10, svm__gamma=0.5, voting=soft; total time=   1.0s\n",
      "[CV] END rf__max_depth=3, rf__n_estimators=5, svm__C=10, svm__gamma=0.5, voting=soft; total time=   0.9s\n",
      "[CV] END rf__max_depth=3, rf__n_estimators=5, svm__C=10, svm__gamma=0.5, voting=hard; total time=   1.4s\n",
      "[CV] END rf__max_depth=3, rf__n_estimators=5, svm__C=10, svm__gamma=0.5, voting=hard; total time=   1.2s\n",
      "[CV] END rf__max_depth=3, rf__n_estimators=5, svm__C=10, svm__gamma=0.5, voting=hard; total time=   1.4s\n",
      "[CV] END rf__max_depth=3, rf__n_estimators=10, svm__C=3, svm__gamma=0.1, voting=soft; total time=   1.0s\n",
      "[CV] END rf__max_depth=3, rf__n_estimators=10, svm__C=3, svm__gamma=0.1, voting=soft; total time=   1.0s\n",
      "[CV] END rf__max_depth=3, rf__n_estimators=10, svm__C=3, svm__gamma=0.1, voting=soft; total time=   1.0s\n",
      "[CV] END rf__max_depth=3, rf__n_estimators=10, svm__C=3, svm__gamma=0.1, voting=hard; total time=   1.0s\n",
      "[CV] END rf__max_depth=3, rf__n_estimators=10, svm__C=3, svm__gamma=0.1, voting=hard; total time=   0.8s\n",
      "[CV] END rf__max_depth=3, rf__n_estimators=10, svm__C=3, svm__gamma=0.1, voting=hard; total time=   1.0s\n"
     ]
    },
    {
     "name": "stdout",
     "output_type": "stream",
     "text": [
      "[CV] END rf__max_depth=3, rf__n_estimators=10, svm__C=3, svm__gamma=0.3, voting=soft; total time=   1.0s\n",
      "[CV] END rf__max_depth=3, rf__n_estimators=10, svm__C=3, svm__gamma=0.3, voting=soft; total time=   0.9s\n",
      "[CV] END rf__max_depth=3, rf__n_estimators=10, svm__C=3, svm__gamma=0.3, voting=soft; total time=   0.9s\n",
      "[CV] END rf__max_depth=3, rf__n_estimators=10, svm__C=3, svm__gamma=0.3, voting=hard; total time=   0.7s\n",
      "[CV] END rf__max_depth=3, rf__n_estimators=10, svm__C=3, svm__gamma=0.3, voting=hard; total time=   0.8s\n",
      "[CV] END rf__max_depth=3, rf__n_estimators=10, svm__C=3, svm__gamma=0.3, voting=hard; total time=   0.9s\n",
      "[CV] END rf__max_depth=3, rf__n_estimators=10, svm__C=3, svm__gamma=0.5, voting=soft; total time=   1.0s\n",
      "[CV] END rf__max_depth=3, rf__n_estimators=10, svm__C=3, svm__gamma=0.5, voting=soft; total time=   1.0s\n",
      "[CV] END rf__max_depth=3, rf__n_estimators=10, svm__C=3, svm__gamma=0.5, voting=soft; total time=   0.9s\n",
      "[CV] END rf__max_depth=3, rf__n_estimators=10, svm__C=3, svm__gamma=0.5, voting=hard; total time=   0.7s\n",
      "[CV] END rf__max_depth=3, rf__n_estimators=10, svm__C=3, svm__gamma=0.5, voting=hard; total time=   0.8s\n",
      "[CV] END rf__max_depth=3, rf__n_estimators=10, svm__C=3, svm__gamma=0.5, voting=hard; total time=   0.9s\n",
      "[CV] END rf__max_depth=3, rf__n_estimators=10, svm__C=5, svm__gamma=0.1, voting=soft; total time=   1.0s\n",
      "[CV] END rf__max_depth=3, rf__n_estimators=10, svm__C=5, svm__gamma=0.1, voting=soft; total time=   1.0s\n",
      "[CV] END rf__max_depth=3, rf__n_estimators=10, svm__C=5, svm__gamma=0.1, voting=soft; total time=   1.0s\n",
      "[CV] END rf__max_depth=3, rf__n_estimators=10, svm__C=5, svm__gamma=0.1, voting=hard; total time=   0.7s\n",
      "[CV] END rf__max_depth=3, rf__n_estimators=10, svm__C=5, svm__gamma=0.1, voting=hard; total time=   0.8s\n",
      "[CV] END rf__max_depth=3, rf__n_estimators=10, svm__C=5, svm__gamma=0.1, voting=hard; total time=   1.0s\n",
      "[CV] END rf__max_depth=3, rf__n_estimators=10, svm__C=5, svm__gamma=0.3, voting=soft; total time=   1.0s\n",
      "[CV] END rf__max_depth=3, rf__n_estimators=10, svm__C=5, svm__gamma=0.3, voting=soft; total time=   1.0s\n",
      "[CV] END rf__max_depth=3, rf__n_estimators=10, svm__C=5, svm__gamma=0.3, voting=soft; total time=   0.9s\n",
      "[CV] END rf__max_depth=3, rf__n_estimators=10, svm__C=5, svm__gamma=0.3, voting=hard; total time=   0.6s\n",
      "[CV] END rf__max_depth=3, rf__n_estimators=10, svm__C=5, svm__gamma=0.3, voting=hard; total time=   0.9s\n",
      "[CV] END rf__max_depth=3, rf__n_estimators=10, svm__C=5, svm__gamma=0.3, voting=hard; total time=   0.9s\n",
      "[CV] END rf__max_depth=3, rf__n_estimators=10, svm__C=5, svm__gamma=0.5, voting=soft; total time=   1.0s\n",
      "[CV] END rf__max_depth=3, rf__n_estimators=10, svm__C=5, svm__gamma=0.5, voting=soft; total time=   1.0s\n",
      "[CV] END rf__max_depth=3, rf__n_estimators=10, svm__C=5, svm__gamma=0.5, voting=soft; total time=   1.0s\n",
      "[CV] END rf__max_depth=3, rf__n_estimators=10, svm__C=5, svm__gamma=0.5, voting=hard; total time=   0.8s\n",
      "[CV] END rf__max_depth=3, rf__n_estimators=10, svm__C=5, svm__gamma=0.5, voting=hard; total time=   0.8s\n",
      "[CV] END rf__max_depth=3, rf__n_estimators=10, svm__C=5, svm__gamma=0.5, voting=hard; total time=   1.0s\n",
      "[CV] END rf__max_depth=3, rf__n_estimators=10, svm__C=7, svm__gamma=0.1, voting=soft; total time=   1.2s\n",
      "[CV] END rf__max_depth=3, rf__n_estimators=10, svm__C=7, svm__gamma=0.1, voting=soft; total time=   0.9s\n",
      "[CV] END rf__max_depth=3, rf__n_estimators=10, svm__C=7, svm__gamma=0.1, voting=soft; total time=   0.9s\n",
      "[CV] END rf__max_depth=3, rf__n_estimators=10, svm__C=7, svm__gamma=0.1, voting=hard; total time=   0.9s\n",
      "[CV] END rf__max_depth=3, rf__n_estimators=10, svm__C=7, svm__gamma=0.1, voting=hard; total time=   0.6s\n",
      "[CV] END rf__max_depth=3, rf__n_estimators=10, svm__C=7, svm__gamma=0.1, voting=hard; total time=   0.9s\n",
      "[CV] END rf__max_depth=3, rf__n_estimators=10, svm__C=7, svm__gamma=0.3, voting=soft; total time=   0.9s\n",
      "[CV] END rf__max_depth=3, rf__n_estimators=10, svm__C=7, svm__gamma=0.3, voting=soft; total time=   0.9s\n",
      "[CV] END rf__max_depth=3, rf__n_estimators=10, svm__C=7, svm__gamma=0.3, voting=soft; total time=   0.9s\n",
      "[CV] END rf__max_depth=3, rf__n_estimators=10, svm__C=7, svm__gamma=0.3, voting=hard; total time=   0.9s\n",
      "[CV] END rf__max_depth=3, rf__n_estimators=10, svm__C=7, svm__gamma=0.3, voting=hard; total time=   0.7s\n",
      "[CV] END rf__max_depth=3, rf__n_estimators=10, svm__C=7, svm__gamma=0.3, voting=hard; total time=   0.9s\n",
      "[CV] END rf__max_depth=3, rf__n_estimators=10, svm__C=7, svm__gamma=0.5, voting=soft; total time=   0.9s\n",
      "[CV] END rf__max_depth=3, rf__n_estimators=10, svm__C=7, svm__gamma=0.5, voting=soft; total time=   1.0s\n",
      "[CV] END rf__max_depth=3, rf__n_estimators=10, svm__C=7, svm__gamma=0.5, voting=soft; total time=   0.9s\n",
      "[CV] END rf__max_depth=3, rf__n_estimators=10, svm__C=7, svm__gamma=0.5, voting=hard; total time=   1.0s\n",
      "[CV] END rf__max_depth=3, rf__n_estimators=10, svm__C=7, svm__gamma=0.5, voting=hard; total time=   0.9s\n",
      "[CV] END rf__max_depth=3, rf__n_estimators=10, svm__C=7, svm__gamma=0.5, voting=hard; total time=   0.8s\n",
      "[CV] END rf__max_depth=3, rf__n_estimators=10, svm__C=10, svm__gamma=0.1, voting=soft; total time=   0.7s\n",
      "[CV] END rf__max_depth=3, rf__n_estimators=10, svm__C=10, svm__gamma=0.1, voting=soft; total time=   0.9s\n",
      "[CV] END rf__max_depth=3, rf__n_estimators=10, svm__C=10, svm__gamma=0.1, voting=soft; total time=   0.9s\n",
      "[CV] END rf__max_depth=3, rf__n_estimators=10, svm__C=10, svm__gamma=0.1, voting=hard; total time=   1.0s\n",
      "[CV] END rf__max_depth=3, rf__n_estimators=10, svm__C=10, svm__gamma=0.1, voting=hard; total time=   0.9s\n",
      "[CV] END rf__max_depth=3, rf__n_estimators=10, svm__C=10, svm__gamma=0.1, voting=hard; total time=   0.9s\n",
      "[CV] END rf__max_depth=3, rf__n_estimators=10, svm__C=10, svm__gamma=0.3, voting=soft; total time=   0.8s\n",
      "[CV] END rf__max_depth=3, rf__n_estimators=10, svm__C=10, svm__gamma=0.3, voting=soft; total time=   0.6s\n",
      "[CV] END rf__max_depth=3, rf__n_estimators=10, svm__C=10, svm__gamma=0.3, voting=soft; total time=   0.9s\n",
      "[CV] END rf__max_depth=3, rf__n_estimators=10, svm__C=10, svm__gamma=0.3, voting=hard; total time=   1.0s\n",
      "[CV] END rf__max_depth=3, rf__n_estimators=10, svm__C=10, svm__gamma=0.3, voting=hard; total time=   0.9s\n",
      "[CV] END rf__max_depth=3, rf__n_estimators=10, svm__C=10, svm__gamma=0.3, voting=hard; total time=   0.9s\n",
      "[CV] END rf__max_depth=3, rf__n_estimators=10, svm__C=10, svm__gamma=0.5, voting=soft; total time=   0.9s\n",
      "[CV] END rf__max_depth=3, rf__n_estimators=10, svm__C=10, svm__gamma=0.5, voting=soft; total time=   0.9s\n",
      "[CV] END rf__max_depth=3, rf__n_estimators=10, svm__C=10, svm__gamma=0.5, voting=soft; total time=   0.7s\n",
      "[CV] END rf__max_depth=3, rf__n_estimators=10, svm__C=10, svm__gamma=0.5, voting=hard; total time=   0.9s\n",
      "[CV] END rf__max_depth=3, rf__n_estimators=10, svm__C=10, svm__gamma=0.5, voting=hard; total time=   0.9s\n",
      "[CV] END rf__max_depth=3, rf__n_estimators=10, svm__C=10, svm__gamma=0.5, voting=hard; total time=   0.9s\n",
      "[CV] END rf__max_depth=3, rf__n_estimators=20, svm__C=3, svm__gamma=0.1, voting=soft; total time=   1.1s\n",
      "[CV] END rf__max_depth=3, rf__n_estimators=20, svm__C=3, svm__gamma=0.1, voting=soft; total time=   1.0s\n",
      "[CV] END rf__max_depth=3, rf__n_estimators=20, svm__C=3, svm__gamma=0.1, voting=soft; total time=   1.0s\n",
      "[CV] END rf__max_depth=3, rf__n_estimators=20, svm__C=3, svm__gamma=0.1, voting=hard; total time=   0.9s\n",
      "[CV] END rf__max_depth=3, rf__n_estimators=20, svm__C=3, svm__gamma=0.1, voting=hard; total time=   0.9s\n",
      "[CV] END rf__max_depth=3, rf__n_estimators=20, svm__C=3, svm__gamma=0.1, voting=hard; total time=   1.1s\n",
      "[CV] END rf__max_depth=3, rf__n_estimators=20, svm__C=3, svm__gamma=0.3, voting=soft; total time=   1.0s\n",
      "[CV] END rf__max_depth=3, rf__n_estimators=20, svm__C=3, svm__gamma=0.3, voting=soft; total time=   1.0s\n",
      "[CV] END rf__max_depth=3, rf__n_estimators=20, svm__C=3, svm__gamma=0.3, voting=soft; total time=   1.0s\n",
      "[CV] END rf__max_depth=3, rf__n_estimators=20, svm__C=3, svm__gamma=0.3, voting=hard; total time=   0.7s\n",
      "[CV] END rf__max_depth=3, rf__n_estimators=20, svm__C=3, svm__gamma=0.3, voting=hard; total time=   1.1s\n",
      "[CV] END rf__max_depth=3, rf__n_estimators=20, svm__C=3, svm__gamma=0.3, voting=hard; total time=   1.0s\n"
     ]
    },
    {
     "name": "stdout",
     "output_type": "stream",
     "text": [
      "[CV] END rf__max_depth=3, rf__n_estimators=20, svm__C=3, svm__gamma=0.5, voting=soft; total time=   1.0s\n",
      "[CV] END rf__max_depth=3, rf__n_estimators=20, svm__C=3, svm__gamma=0.5, voting=soft; total time=   1.0s\n",
      "[CV] END rf__max_depth=3, rf__n_estimators=20, svm__C=3, svm__gamma=0.5, voting=soft; total time=   0.9s\n",
      "[CV] END rf__max_depth=3, rf__n_estimators=20, svm__C=3, svm__gamma=0.5, voting=hard; total time=   0.8s\n",
      "[CV] END rf__max_depth=3, rf__n_estimators=20, svm__C=3, svm__gamma=0.5, voting=hard; total time=   1.1s\n",
      "[CV] END rf__max_depth=3, rf__n_estimators=20, svm__C=3, svm__gamma=0.5, voting=hard; total time=   1.6s\n",
      "[CV] END rf__max_depth=3, rf__n_estimators=20, svm__C=5, svm__gamma=0.1, voting=soft; total time=   1.9s\n",
      "[CV] END rf__max_depth=3, rf__n_estimators=20, svm__C=5, svm__gamma=0.1, voting=soft; total time=   1.2s\n",
      "[CV] END rf__max_depth=3, rf__n_estimators=20, svm__C=5, svm__gamma=0.1, voting=soft; total time=   1.7s\n",
      "[CV] END rf__max_depth=3, rf__n_estimators=20, svm__C=5, svm__gamma=0.1, voting=hard; total time=   1.1s\n",
      "[CV] END rf__max_depth=3, rf__n_estimators=20, svm__C=5, svm__gamma=0.1, voting=hard; total time=   1.0s\n",
      "[CV] END rf__max_depth=3, rf__n_estimators=20, svm__C=5, svm__gamma=0.1, voting=hard; total time=   0.9s\n",
      "[CV] END rf__max_depth=3, rf__n_estimators=20, svm__C=5, svm__gamma=0.3, voting=soft; total time=   0.8s\n",
      "[CV] END rf__max_depth=3, rf__n_estimators=20, svm__C=5, svm__gamma=0.3, voting=soft; total time=   1.5s\n",
      "[CV] END rf__max_depth=3, rf__n_estimators=20, svm__C=5, svm__gamma=0.3, voting=soft; total time=   1.0s\n",
      "[CV] END rf__max_depth=3, rf__n_estimators=20, svm__C=5, svm__gamma=0.3, voting=hard; total time=   1.0s\n",
      "[CV] END rf__max_depth=3, rf__n_estimators=20, svm__C=5, svm__gamma=0.3, voting=hard; total time=   1.0s\n",
      "[CV] END rf__max_depth=3, rf__n_estimators=20, svm__C=5, svm__gamma=0.3, voting=hard; total time=   1.0s\n",
      "[CV] END rf__max_depth=3, rf__n_estimators=20, svm__C=5, svm__gamma=0.5, voting=soft; total time=   0.7s\n",
      "[CV] END rf__max_depth=3, rf__n_estimators=20, svm__C=5, svm__gamma=0.5, voting=soft; total time=   1.0s\n",
      "[CV] END rf__max_depth=3, rf__n_estimators=20, svm__C=5, svm__gamma=0.5, voting=soft; total time=   0.9s\n",
      "[CV] END rf__max_depth=3, rf__n_estimators=20, svm__C=5, svm__gamma=0.5, voting=hard; total time=   1.0s\n",
      "[CV] END rf__max_depth=3, rf__n_estimators=20, svm__C=5, svm__gamma=0.5, voting=hard; total time=   1.0s\n",
      "[CV] END rf__max_depth=3, rf__n_estimators=20, svm__C=5, svm__gamma=0.5, voting=hard; total time=   0.9s\n",
      "[CV] END rf__max_depth=3, rf__n_estimators=20, svm__C=7, svm__gamma=0.1, voting=soft; total time=   0.7s\n",
      "[CV] END rf__max_depth=3, rf__n_estimators=20, svm__C=7, svm__gamma=0.1, voting=soft; total time=   1.0s\n",
      "[CV] END rf__max_depth=3, rf__n_estimators=20, svm__C=7, svm__gamma=0.1, voting=soft; total time=   1.0s\n",
      "[CV] END rf__max_depth=3, rf__n_estimators=20, svm__C=7, svm__gamma=0.1, voting=hard; total time=   1.0s\n",
      "[CV] END rf__max_depth=3, rf__n_estimators=20, svm__C=7, svm__gamma=0.1, voting=hard; total time=   1.0s\n",
      "[CV] END rf__max_depth=3, rf__n_estimators=20, svm__C=7, svm__gamma=0.1, voting=hard; total time=   0.8s\n",
      "[CV] END rf__max_depth=3, rf__n_estimators=20, svm__C=7, svm__gamma=0.3, voting=soft; total time=   0.8s\n",
      "[CV] END rf__max_depth=3, rf__n_estimators=20, svm__C=7, svm__gamma=0.3, voting=soft; total time=   0.9s\n",
      "[CV] END rf__max_depth=3, rf__n_estimators=20, svm__C=7, svm__gamma=0.3, voting=soft; total time=   0.9s\n",
      "[CV] END rf__max_depth=3, rf__n_estimators=20, svm__C=7, svm__gamma=0.3, voting=hard; total time=   1.0s\n",
      "[CV] END rf__max_depth=3, rf__n_estimators=20, svm__C=7, svm__gamma=0.3, voting=hard; total time=   1.0s\n",
      "[CV] END rf__max_depth=3, rf__n_estimators=20, svm__C=7, svm__gamma=0.3, voting=hard; total time=   0.7s\n",
      "[CV] END rf__max_depth=3, rf__n_estimators=20, svm__C=7, svm__gamma=0.5, voting=soft; total time=   0.8s\n",
      "[CV] END rf__max_depth=3, rf__n_estimators=20, svm__C=7, svm__gamma=0.5, voting=soft; total time=   1.0s\n",
      "[CV] END rf__max_depth=3, rf__n_estimators=20, svm__C=7, svm__gamma=0.5, voting=soft; total time=   1.0s\n",
      "[CV] END rf__max_depth=3, rf__n_estimators=20, svm__C=7, svm__gamma=0.5, voting=hard; total time=   1.0s\n",
      "[CV] END rf__max_depth=3, rf__n_estimators=20, svm__C=7, svm__gamma=0.5, voting=hard; total time=   1.1s\n",
      "[CV] END rf__max_depth=3, rf__n_estimators=20, svm__C=7, svm__gamma=0.5, voting=hard; total time=   1.1s\n",
      "[CV] END rf__max_depth=3, rf__n_estimators=20, svm__C=10, svm__gamma=0.1, voting=soft; total time=   0.7s\n",
      "[CV] END rf__max_depth=3, rf__n_estimators=20, svm__C=10, svm__gamma=0.1, voting=soft; total time=   0.9s\n",
      "[CV] END rf__max_depth=3, rf__n_estimators=20, svm__C=10, svm__gamma=0.1, voting=soft; total time=   0.9s\n",
      "[CV] END rf__max_depth=3, rf__n_estimators=20, svm__C=10, svm__gamma=0.1, voting=hard; total time=   1.0s\n",
      "[CV] END rf__max_depth=3, rf__n_estimators=20, svm__C=10, svm__gamma=0.1, voting=hard; total time=   0.9s\n",
      "[CV] END rf__max_depth=3, rf__n_estimators=20, svm__C=10, svm__gamma=0.1, voting=hard; total time=   0.9s\n",
      "[CV] END rf__max_depth=3, rf__n_estimators=20, svm__C=10, svm__gamma=0.3, voting=soft; total time=   0.8s\n",
      "[CV] END rf__max_depth=3, rf__n_estimators=20, svm__C=10, svm__gamma=0.3, voting=soft; total time=   0.8s\n",
      "[CV] END rf__max_depth=3, rf__n_estimators=20, svm__C=10, svm__gamma=0.3, voting=soft; total time=   0.9s\n",
      "[CV] END rf__max_depth=3, rf__n_estimators=20, svm__C=10, svm__gamma=0.3, voting=hard; total time=   1.1s\n",
      "[CV] END rf__max_depth=3, rf__n_estimators=20, svm__C=10, svm__gamma=0.3, voting=hard; total time=   1.0s\n",
      "[CV] END rf__max_depth=3, rf__n_estimators=20, svm__C=10, svm__gamma=0.3, voting=hard; total time=   0.9s\n",
      "[CV] END rf__max_depth=3, rf__n_estimators=20, svm__C=10, svm__gamma=0.5, voting=soft; total time=   1.0s\n",
      "[CV] END rf__max_depth=3, rf__n_estimators=20, svm__C=10, svm__gamma=0.5, voting=soft; total time=   0.8s\n",
      "[CV] END rf__max_depth=3, rf__n_estimators=20, svm__C=10, svm__gamma=0.5, voting=soft; total time=   1.1s\n",
      "[CV] END rf__max_depth=3, rf__n_estimators=20, svm__C=10, svm__gamma=0.5, voting=hard; total time=   1.1s\n",
      "[CV] END rf__max_depth=3, rf__n_estimators=20, svm__C=10, svm__gamma=0.5, voting=hard; total time=   1.1s\n",
      "[CV] END rf__max_depth=3, rf__n_estimators=20, svm__C=10, svm__gamma=0.5, voting=hard; total time=   1.3s\n",
      "[CV] END rf__max_depth=5, rf__n_estimators=5, svm__C=3, svm__gamma=0.1, voting=soft; total time=   1.0s\n",
      "[CV] END rf__max_depth=5, rf__n_estimators=5, svm__C=3, svm__gamma=0.1, voting=soft; total time=   1.1s\n",
      "[CV] END rf__max_depth=5, rf__n_estimators=5, svm__C=3, svm__gamma=0.1, voting=soft; total time=   1.5s\n",
      "[CV] END rf__max_depth=5, rf__n_estimators=5, svm__C=3, svm__gamma=0.1, voting=hard; total time=   1.0s\n",
      "[CV] END rf__max_depth=5, rf__n_estimators=5, svm__C=3, svm__gamma=0.1, voting=hard; total time=   1.3s\n",
      "[CV] END rf__max_depth=5, rf__n_estimators=5, svm__C=3, svm__gamma=0.1, voting=hard; total time=   1.3s\n",
      "[CV] END rf__max_depth=5, rf__n_estimators=5, svm__C=3, svm__gamma=0.3, voting=soft; total time=   0.9s\n",
      "[CV] END rf__max_depth=5, rf__n_estimators=5, svm__C=3, svm__gamma=0.3, voting=soft; total time=   1.1s\n",
      "[CV] END rf__max_depth=5, rf__n_estimators=5, svm__C=3, svm__gamma=0.3, voting=soft; total time=   1.9s\n",
      "[CV] END rf__max_depth=5, rf__n_estimators=5, svm__C=3, svm__gamma=0.3, voting=hard; total time=   1.1s\n",
      "[CV] END rf__max_depth=5, rf__n_estimators=5, svm__C=3, svm__gamma=0.3, voting=hard; total time=   0.9s\n",
      "[CV] END rf__max_depth=5, rf__n_estimators=5, svm__C=3, svm__gamma=0.3, voting=hard; total time=   0.8s\n",
      "[CV] END rf__max_depth=5, rf__n_estimators=5, svm__C=3, svm__gamma=0.5, voting=soft; total time=   0.9s\n",
      "[CV] END rf__max_depth=5, rf__n_estimators=5, svm__C=3, svm__gamma=0.5, voting=soft; total time=   1.2s\n",
      "[CV] END rf__max_depth=5, rf__n_estimators=5, svm__C=3, svm__gamma=0.5, voting=soft; total time=   0.9s\n",
      "[CV] END rf__max_depth=5, rf__n_estimators=5, svm__C=3, svm__gamma=0.5, voting=hard; total time=   0.9s\n",
      "[CV] END rf__max_depth=5, rf__n_estimators=5, svm__C=3, svm__gamma=0.5, voting=hard; total time=   1.0s\n",
      "[CV] END rf__max_depth=5, rf__n_estimators=5, svm__C=3, svm__gamma=0.5, voting=hard; total time=   0.9s\n",
      "[CV] END rf__max_depth=5, rf__n_estimators=5, svm__C=5, svm__gamma=0.1, voting=soft; total time=   0.8s\n"
     ]
    },
    {
     "name": "stdout",
     "output_type": "stream",
     "text": [
      "[CV] END rf__max_depth=5, rf__n_estimators=5, svm__C=5, svm__gamma=0.1, voting=soft; total time=   1.4s\n",
      "[CV] END rf__max_depth=5, rf__n_estimators=5, svm__C=5, svm__gamma=0.1, voting=soft; total time=   0.9s\n",
      "[CV] END rf__max_depth=5, rf__n_estimators=5, svm__C=5, svm__gamma=0.1, voting=hard; total time=   1.0s\n",
      "[CV] END rf__max_depth=5, rf__n_estimators=5, svm__C=5, svm__gamma=0.1, voting=hard; total time=   1.0s\n",
      "[CV] END rf__max_depth=5, rf__n_estimators=5, svm__C=5, svm__gamma=0.1, voting=hard; total time=   0.9s\n",
      "[CV] END rf__max_depth=5, rf__n_estimators=5, svm__C=5, svm__gamma=0.3, voting=soft; total time=   0.9s\n",
      "[CV] END rf__max_depth=5, rf__n_estimators=5, svm__C=5, svm__gamma=0.3, voting=soft; total time=   0.8s\n",
      "[CV] END rf__max_depth=5, rf__n_estimators=5, svm__C=5, svm__gamma=0.3, voting=soft; total time=   0.9s\n",
      "[CV] END rf__max_depth=5, rf__n_estimators=5, svm__C=5, svm__gamma=0.3, voting=hard; total time=   1.3s\n",
      "[CV] END rf__max_depth=5, rf__n_estimators=5, svm__C=5, svm__gamma=0.3, voting=hard; total time=   1.2s\n",
      "[CV] END rf__max_depth=5, rf__n_estimators=5, svm__C=5, svm__gamma=0.3, voting=hard; total time=   1.0s\n",
      "[CV] END rf__max_depth=5, rf__n_estimators=5, svm__C=5, svm__gamma=0.5, voting=soft; total time=   1.2s\n",
      "[CV] END rf__max_depth=5, rf__n_estimators=5, svm__C=5, svm__gamma=0.5, voting=soft; total time=   1.0s\n",
      "[CV] END rf__max_depth=5, rf__n_estimators=5, svm__C=5, svm__gamma=0.5, voting=soft; total time=   1.2s\n",
      "[CV] END rf__max_depth=5, rf__n_estimators=5, svm__C=5, svm__gamma=0.5, voting=hard; total time=   0.9s\n",
      "[CV] END rf__max_depth=5, rf__n_estimators=5, svm__C=5, svm__gamma=0.5, voting=hard; total time=   0.9s\n",
      "[CV] END rf__max_depth=5, rf__n_estimators=5, svm__C=5, svm__gamma=0.5, voting=hard; total time=   1.0s\n",
      "[CV] END rf__max_depth=5, rf__n_estimators=5, svm__C=7, svm__gamma=0.1, voting=soft; total time=   1.2s\n",
      "[CV] END rf__max_depth=5, rf__n_estimators=5, svm__C=7, svm__gamma=0.1, voting=soft; total time=   1.4s\n",
      "[CV] END rf__max_depth=5, rf__n_estimators=5, svm__C=7, svm__gamma=0.1, voting=soft; total time=   2.2s\n",
      "[CV] END rf__max_depth=5, rf__n_estimators=5, svm__C=7, svm__gamma=0.1, voting=hard; total time=   1.3s\n",
      "[CV] END rf__max_depth=5, rf__n_estimators=5, svm__C=7, svm__gamma=0.1, voting=hard; total time=   1.1s\n",
      "[CV] END rf__max_depth=5, rf__n_estimators=5, svm__C=7, svm__gamma=0.1, voting=hard; total time=   1.0s\n",
      "[CV] END rf__max_depth=5, rf__n_estimators=5, svm__C=7, svm__gamma=0.3, voting=soft; total time=   1.3s\n",
      "[CV] END rf__max_depth=5, rf__n_estimators=5, svm__C=7, svm__gamma=0.3, voting=soft; total time=   0.9s\n",
      "[CV] END rf__max_depth=5, rf__n_estimators=5, svm__C=7, svm__gamma=0.3, voting=soft; total time=   0.9s\n",
      "[CV] END rf__max_depth=5, rf__n_estimators=5, svm__C=7, svm__gamma=0.3, voting=hard; total time=   1.7s\n",
      "[CV] END rf__max_depth=5, rf__n_estimators=5, svm__C=7, svm__gamma=0.3, voting=hard; total time=   1.2s\n",
      "[CV] END rf__max_depth=5, rf__n_estimators=5, svm__C=7, svm__gamma=0.3, voting=hard; total time=   1.2s\n",
      "[CV] END rf__max_depth=5, rf__n_estimators=5, svm__C=7, svm__gamma=0.5, voting=soft; total time=   1.8s\n",
      "[CV] END rf__max_depth=5, rf__n_estimators=5, svm__C=7, svm__gamma=0.5, voting=soft; total time=   0.9s\n",
      "[CV] END rf__max_depth=5, rf__n_estimators=5, svm__C=7, svm__gamma=0.5, voting=soft; total time=   1.0s\n",
      "[CV] END rf__max_depth=5, rf__n_estimators=5, svm__C=7, svm__gamma=0.5, voting=hard; total time=   1.0s\n",
      "[CV] END rf__max_depth=5, rf__n_estimators=5, svm__C=7, svm__gamma=0.5, voting=hard; total time=   1.0s\n",
      "[CV] END rf__max_depth=5, rf__n_estimators=5, svm__C=7, svm__gamma=0.5, voting=hard; total time=   0.9s\n",
      "[CV] END rf__max_depth=5, rf__n_estimators=5, svm__C=10, svm__gamma=0.1, voting=soft; total time=   0.9s\n",
      "[CV] END rf__max_depth=5, rf__n_estimators=5, svm__C=10, svm__gamma=0.1, voting=soft; total time=   0.8s\n",
      "[CV] END rf__max_depth=5, rf__n_estimators=5, svm__C=10, svm__gamma=0.1, voting=soft; total time=   0.8s\n",
      "[CV] END rf__max_depth=5, rf__n_estimators=5, svm__C=10, svm__gamma=0.1, voting=hard; total time=   1.1s\n",
      "[CV] END rf__max_depth=5, rf__n_estimators=5, svm__C=10, svm__gamma=0.1, voting=hard; total time=   1.2s\n",
      "[CV] END rf__max_depth=5, rf__n_estimators=5, svm__C=10, svm__gamma=0.1, voting=hard; total time=   1.0s\n",
      "[CV] END rf__max_depth=5, rf__n_estimators=5, svm__C=10, svm__gamma=0.3, voting=soft; total time=   0.9s\n",
      "[CV] END rf__max_depth=5, rf__n_estimators=5, svm__C=10, svm__gamma=0.3, voting=soft; total time=   0.9s\n",
      "[CV] END rf__max_depth=5, rf__n_estimators=5, svm__C=10, svm__gamma=0.3, voting=soft; total time=   0.9s\n",
      "[CV] END rf__max_depth=5, rf__n_estimators=5, svm__C=10, svm__gamma=0.3, voting=hard; total time=   0.7s\n",
      "[CV] END rf__max_depth=5, rf__n_estimators=5, svm__C=10, svm__gamma=0.3, voting=hard; total time=   1.0s\n",
      "[CV] END rf__max_depth=5, rf__n_estimators=5, svm__C=10, svm__gamma=0.3, voting=hard; total time=   1.0s\n",
      "[CV] END rf__max_depth=5, rf__n_estimators=5, svm__C=10, svm__gamma=0.5, voting=soft; total time=   1.0s\n",
      "[CV] END rf__max_depth=5, rf__n_estimators=5, svm__C=10, svm__gamma=0.5, voting=soft; total time=   1.0s\n",
      "[CV] END rf__max_depth=5, rf__n_estimators=5, svm__C=10, svm__gamma=0.5, voting=soft; total time=   0.9s\n",
      "[CV] END rf__max_depth=5, rf__n_estimators=5, svm__C=10, svm__gamma=0.5, voting=hard; total time=   1.0s\n",
      "[CV] END rf__max_depth=5, rf__n_estimators=5, svm__C=10, svm__gamma=0.5, voting=hard; total time=   0.7s\n",
      "[CV] END rf__max_depth=5, rf__n_estimators=5, svm__C=10, svm__gamma=0.5, voting=hard; total time=   0.8s\n",
      "[CV] END rf__max_depth=5, rf__n_estimators=10, svm__C=3, svm__gamma=0.1, voting=soft; total time=   1.2s\n",
      "[CV] END rf__max_depth=5, rf__n_estimators=10, svm__C=3, svm__gamma=0.1, voting=soft; total time=   1.2s\n",
      "[CV] END rf__max_depth=5, rf__n_estimators=10, svm__C=3, svm__gamma=0.1, voting=soft; total time=   1.0s\n",
      "[CV] END rf__max_depth=5, rf__n_estimators=10, svm__C=3, svm__gamma=0.1, voting=hard; total time=   1.1s\n",
      "[CV] END rf__max_depth=5, rf__n_estimators=10, svm__C=3, svm__gamma=0.1, voting=hard; total time=   0.9s\n",
      "[CV] END rf__max_depth=5, rf__n_estimators=10, svm__C=3, svm__gamma=0.1, voting=hard; total time=   0.9s\n",
      "[CV] END rf__max_depth=5, rf__n_estimators=10, svm__C=3, svm__gamma=0.3, voting=soft; total time=   1.0s\n",
      "[CV] END rf__max_depth=5, rf__n_estimators=10, svm__C=3, svm__gamma=0.3, voting=soft; total time=   1.0s\n",
      "[CV] END rf__max_depth=5, rf__n_estimators=10, svm__C=3, svm__gamma=0.3, voting=soft; total time=   1.1s\n",
      "[CV] END rf__max_depth=5, rf__n_estimators=10, svm__C=3, svm__gamma=0.3, voting=hard; total time=   1.1s\n",
      "[CV] END rf__max_depth=5, rf__n_estimators=10, svm__C=3, svm__gamma=0.3, voting=hard; total time=   1.0s\n",
      "[CV] END rf__max_depth=5, rf__n_estimators=10, svm__C=3, svm__gamma=0.3, voting=hard; total time=   1.3s\n",
      "[CV] END rf__max_depth=5, rf__n_estimators=10, svm__C=3, svm__gamma=0.5, voting=soft; total time=   1.2s\n",
      "[CV] END rf__max_depth=5, rf__n_estimators=10, svm__C=3, svm__gamma=0.5, voting=soft; total time=   0.9s\n",
      "[CV] END rf__max_depth=5, rf__n_estimators=10, svm__C=3, svm__gamma=0.5, voting=soft; total time=   1.2s\n",
      "[CV] END rf__max_depth=5, rf__n_estimators=10, svm__C=3, svm__gamma=0.5, voting=hard; total time=   2.9s\n",
      "[CV] END rf__max_depth=5, rf__n_estimators=10, svm__C=3, svm__gamma=0.5, voting=hard; total time=   1.3s\n",
      "[CV] END rf__max_depth=5, rf__n_estimators=10, svm__C=3, svm__gamma=0.5, voting=hard; total time=   1.0s\n",
      "[CV] END rf__max_depth=5, rf__n_estimators=10, svm__C=5, svm__gamma=0.1, voting=soft; total time=   1.0s\n",
      "[CV] END rf__max_depth=5, rf__n_estimators=10, svm__C=5, svm__gamma=0.1, voting=soft; total time=   1.1s\n",
      "[CV] END rf__max_depth=5, rf__n_estimators=10, svm__C=5, svm__gamma=0.1, voting=soft; total time=   0.9s\n",
      "[CV] END rf__max_depth=5, rf__n_estimators=10, svm__C=5, svm__gamma=0.1, voting=hard; total time=   1.0s\n",
      "[CV] END rf__max_depth=5, rf__n_estimators=10, svm__C=5, svm__gamma=0.1, voting=hard; total time=   0.9s\n",
      "[CV] END rf__max_depth=5, rf__n_estimators=10, svm__C=5, svm__gamma=0.1, voting=hard; total time=   2.0s\n",
      "[CV] END rf__max_depth=5, rf__n_estimators=10, svm__C=5, svm__gamma=0.3, voting=soft; total time=   2.1s\n",
      "[CV] END rf__max_depth=5, rf__n_estimators=10, svm__C=5, svm__gamma=0.3, voting=soft; total time=   2.3s\n"
     ]
    },
    {
     "name": "stdout",
     "output_type": "stream",
     "text": [
      "[CV] END rf__max_depth=5, rf__n_estimators=10, svm__C=5, svm__gamma=0.3, voting=soft; total time=   0.9s\n",
      "[CV] END rf__max_depth=5, rf__n_estimators=10, svm__C=5, svm__gamma=0.3, voting=hard; total time=   0.9s\n",
      "[CV] END rf__max_depth=5, rf__n_estimators=10, svm__C=5, svm__gamma=0.3, voting=hard; total time=   0.8s\n",
      "[CV] END rf__max_depth=5, rf__n_estimators=10, svm__C=5, svm__gamma=0.3, voting=hard; total time=   0.9s\n",
      "[CV] END rf__max_depth=5, rf__n_estimators=10, svm__C=5, svm__gamma=0.5, voting=soft; total time=   1.2s\n",
      "[CV] END rf__max_depth=5, rf__n_estimators=10, svm__C=5, svm__gamma=0.5, voting=soft; total time=   1.0s\n",
      "[CV] END rf__max_depth=5, rf__n_estimators=10, svm__C=5, svm__gamma=0.5, voting=soft; total time=   1.1s\n",
      "[CV] END rf__max_depth=5, rf__n_estimators=10, svm__C=5, svm__gamma=0.5, voting=hard; total time=   1.0s\n",
      "[CV] END rf__max_depth=5, rf__n_estimators=10, svm__C=5, svm__gamma=0.5, voting=hard; total time=   1.2s\n",
      "[CV] END rf__max_depth=5, rf__n_estimators=10, svm__C=5, svm__gamma=0.5, voting=hard; total time=   0.8s\n",
      "[CV] END rf__max_depth=5, rf__n_estimators=10, svm__C=7, svm__gamma=0.1, voting=soft; total time=   1.1s\n",
      "[CV] END rf__max_depth=5, rf__n_estimators=10, svm__C=7, svm__gamma=0.1, voting=soft; total time=   1.0s\n",
      "[CV] END rf__max_depth=5, rf__n_estimators=10, svm__C=7, svm__gamma=0.1, voting=soft; total time=   1.0s\n",
      "[CV] END rf__max_depth=5, rf__n_estimators=10, svm__C=7, svm__gamma=0.1, voting=hard; total time=   1.0s\n",
      "[CV] END rf__max_depth=5, rf__n_estimators=10, svm__C=7, svm__gamma=0.1, voting=hard; total time=   0.9s\n",
      "[CV] END rf__max_depth=5, rf__n_estimators=10, svm__C=7, svm__gamma=0.1, voting=hard; total time=   0.9s\n",
      "[CV] END rf__max_depth=5, rf__n_estimators=10, svm__C=7, svm__gamma=0.3, voting=soft; total time=   0.9s\n",
      "[CV] END rf__max_depth=5, rf__n_estimators=10, svm__C=7, svm__gamma=0.3, voting=soft; total time=   0.6s\n",
      "[CV] END rf__max_depth=5, rf__n_estimators=10, svm__C=7, svm__gamma=0.3, voting=soft; total time=   0.9s\n",
      "[CV] END rf__max_depth=5, rf__n_estimators=10, svm__C=7, svm__gamma=0.3, voting=hard; total time=   0.9s\n",
      "[CV] END rf__max_depth=5, rf__n_estimators=10, svm__C=7, svm__gamma=0.3, voting=hard; total time=   0.9s\n",
      "[CV] END rf__max_depth=5, rf__n_estimators=10, svm__C=7, svm__gamma=0.3, voting=hard; total time=   1.0s\n",
      "[CV] END rf__max_depth=5, rf__n_estimators=10, svm__C=7, svm__gamma=0.5, voting=soft; total time=   0.9s\n",
      "[CV] END rf__max_depth=5, rf__n_estimators=10, svm__C=7, svm__gamma=0.5, voting=soft; total time=   0.7s\n",
      "[CV] END rf__max_depth=5, rf__n_estimators=10, svm__C=7, svm__gamma=0.5, voting=soft; total time=   0.9s\n",
      "[CV] END rf__max_depth=5, rf__n_estimators=10, svm__C=7, svm__gamma=0.5, voting=hard; total time=   1.0s\n",
      "[CV] END rf__max_depth=5, rf__n_estimators=10, svm__C=7, svm__gamma=0.5, voting=hard; total time=   1.3s\n",
      "[CV] END rf__max_depth=5, rf__n_estimators=10, svm__C=7, svm__gamma=0.5, voting=hard; total time=   1.0s\n",
      "[CV] END rf__max_depth=5, rf__n_estimators=10, svm__C=10, svm__gamma=0.1, voting=soft; total time=   0.9s\n",
      "[CV] END rf__max_depth=5, rf__n_estimators=10, svm__C=10, svm__gamma=0.1, voting=soft; total time=   0.6s\n",
      "[CV] END rf__max_depth=5, rf__n_estimators=10, svm__C=10, svm__gamma=0.1, voting=soft; total time=   0.7s\n",
      "[CV] END rf__max_depth=5, rf__n_estimators=10, svm__C=10, svm__gamma=0.1, voting=hard; total time=   0.8s\n",
      "[CV] END rf__max_depth=5, rf__n_estimators=10, svm__C=10, svm__gamma=0.1, voting=hard; total time=   1.1s\n",
      "[CV] END rf__max_depth=5, rf__n_estimators=10, svm__C=10, svm__gamma=0.1, voting=hard; total time=   1.0s\n",
      "[CV] END rf__max_depth=5, rf__n_estimators=10, svm__C=10, svm__gamma=0.3, voting=soft; total time=   0.9s\n",
      "[CV] END rf__max_depth=5, rf__n_estimators=10, svm__C=10, svm__gamma=0.3, voting=soft; total time=   0.7s\n",
      "[CV] END rf__max_depth=5, rf__n_estimators=10, svm__C=10, svm__gamma=0.3, voting=soft; total time=   0.8s\n",
      "[CV] END rf__max_depth=5, rf__n_estimators=10, svm__C=10, svm__gamma=0.3, voting=hard; total time=   0.9s\n",
      "[CV] END rf__max_depth=5, rf__n_estimators=10, svm__C=10, svm__gamma=0.3, voting=hard; total time=   1.0s\n",
      "[CV] END rf__max_depth=5, rf__n_estimators=10, svm__C=10, svm__gamma=0.3, voting=hard; total time=   0.9s\n",
      "[CV] END rf__max_depth=5, rf__n_estimators=10, svm__C=10, svm__gamma=0.5, voting=soft; total time=   1.0s\n",
      "[CV] END rf__max_depth=5, rf__n_estimators=10, svm__C=10, svm__gamma=0.5, voting=soft; total time=   0.7s\n",
      "[CV] END rf__max_depth=5, rf__n_estimators=10, svm__C=10, svm__gamma=0.5, voting=soft; total time=   0.7s\n",
      "[CV] END rf__max_depth=5, rf__n_estimators=10, svm__C=10, svm__gamma=0.5, voting=hard; total time=   0.9s\n",
      "[CV] END rf__max_depth=5, rf__n_estimators=10, svm__C=10, svm__gamma=0.5, voting=hard; total time=   1.2s\n",
      "[CV] END rf__max_depth=5, rf__n_estimators=10, svm__C=10, svm__gamma=0.5, voting=hard; total time=   1.1s\n",
      "[CV] END rf__max_depth=5, rf__n_estimators=20, svm__C=3, svm__gamma=0.1, voting=soft; total time=   0.9s\n",
      "[CV] END rf__max_depth=5, rf__n_estimators=20, svm__C=3, svm__gamma=0.1, voting=soft; total time=   0.9s\n",
      "[CV] END rf__max_depth=5, rf__n_estimators=20, svm__C=3, svm__gamma=0.1, voting=soft; total time=   1.2s\n",
      "[CV] END rf__max_depth=5, rf__n_estimators=20, svm__C=3, svm__gamma=0.1, voting=hard; total time=   1.2s\n",
      "[CV] END rf__max_depth=5, rf__n_estimators=20, svm__C=3, svm__gamma=0.1, voting=hard; total time=   1.2s\n",
      "[CV] END rf__max_depth=5, rf__n_estimators=20, svm__C=3, svm__gamma=0.1, voting=hard; total time=   0.9s\n",
      "[CV] END rf__max_depth=5, rf__n_estimators=20, svm__C=3, svm__gamma=0.3, voting=soft; total time=   1.2s\n",
      "[CV] END rf__max_depth=5, rf__n_estimators=20, svm__C=3, svm__gamma=0.3, voting=soft; total time=   1.3s\n",
      "[CV] END rf__max_depth=5, rf__n_estimators=20, svm__C=3, svm__gamma=0.3, voting=soft; total time=   1.1s\n",
      "[CV] END rf__max_depth=5, rf__n_estimators=20, svm__C=3, svm__gamma=0.3, voting=hard; total time=   1.2s\n",
      "[CV] END rf__max_depth=5, rf__n_estimators=20, svm__C=3, svm__gamma=0.3, voting=hard; total time=   1.1s\n",
      "[CV] END rf__max_depth=5, rf__n_estimators=20, svm__C=3, svm__gamma=0.3, voting=hard; total time=   0.8s\n",
      "[CV] END rf__max_depth=5, rf__n_estimators=20, svm__C=3, svm__gamma=0.5, voting=soft; total time=   1.1s\n",
      "[CV] END rf__max_depth=5, rf__n_estimators=20, svm__C=3, svm__gamma=0.5, voting=soft; total time=   1.0s\n",
      "[CV] END rf__max_depth=5, rf__n_estimators=20, svm__C=3, svm__gamma=0.5, voting=soft; total time=   1.0s\n",
      "[CV] END rf__max_depth=5, rf__n_estimators=20, svm__C=3, svm__gamma=0.5, voting=hard; total time=   1.2s\n",
      "[CV] END rf__max_depth=5, rf__n_estimators=20, svm__C=3, svm__gamma=0.5, voting=hard; total time=   1.2s\n",
      "[CV] END rf__max_depth=5, rf__n_estimators=20, svm__C=3, svm__gamma=0.5, voting=hard; total time=   0.8s\n",
      "[CV] END rf__max_depth=5, rf__n_estimators=20, svm__C=5, svm__gamma=0.1, voting=soft; total time=   1.2s\n",
      "[CV] END rf__max_depth=5, rf__n_estimators=20, svm__C=5, svm__gamma=0.1, voting=soft; total time=   1.1s\n",
      "[CV] END rf__max_depth=5, rf__n_estimators=20, svm__C=5, svm__gamma=0.1, voting=soft; total time=   1.3s\n",
      "[CV] END rf__max_depth=5, rf__n_estimators=20, svm__C=5, svm__gamma=0.1, voting=hard; total time=   1.1s\n",
      "[CV] END rf__max_depth=5, rf__n_estimators=20, svm__C=5, svm__gamma=0.1, voting=hard; total time=   1.0s\n",
      "[CV] END rf__max_depth=5, rf__n_estimators=20, svm__C=5, svm__gamma=0.1, voting=hard; total time=   0.9s\n",
      "[CV] END rf__max_depth=5, rf__n_estimators=20, svm__C=5, svm__gamma=0.3, voting=soft; total time=   1.1s\n",
      "[CV] END rf__max_depth=5, rf__n_estimators=20, svm__C=5, svm__gamma=0.3, voting=soft; total time=   1.1s\n",
      "[CV] END rf__max_depth=5, rf__n_estimators=20, svm__C=5, svm__gamma=0.3, voting=soft; total time=   1.0s\n",
      "[CV] END rf__max_depth=5, rf__n_estimators=20, svm__C=5, svm__gamma=0.3, voting=hard; total time=   1.0s\n",
      "[CV] END rf__max_depth=5, rf__n_estimators=20, svm__C=5, svm__gamma=0.3, voting=hard; total time=   1.0s\n",
      "[CV] END rf__max_depth=5, rf__n_estimators=20, svm__C=5, svm__gamma=0.3, voting=hard; total time=   0.8s\n",
      "[CV] END rf__max_depth=5, rf__n_estimators=20, svm__C=5, svm__gamma=0.5, voting=soft; total time=   1.0s\n",
      "[CV] END rf__max_depth=5, rf__n_estimators=20, svm__C=5, svm__gamma=0.5, voting=soft; total time=   1.1s\n"
     ]
    },
    {
     "name": "stdout",
     "output_type": "stream",
     "text": [
      "[CV] END rf__max_depth=5, rf__n_estimators=20, svm__C=5, svm__gamma=0.5, voting=soft; total time=   1.1s\n",
      "[CV] END rf__max_depth=5, rf__n_estimators=20, svm__C=5, svm__gamma=0.5, voting=hard; total time=   1.1s\n",
      "[CV] END rf__max_depth=5, rf__n_estimators=20, svm__C=5, svm__gamma=0.5, voting=hard; total time=   0.8s\n",
      "[CV] END rf__max_depth=5, rf__n_estimators=20, svm__C=5, svm__gamma=0.5, voting=hard; total time=   0.9s\n",
      "[CV] END rf__max_depth=5, rf__n_estimators=20, svm__C=7, svm__gamma=0.1, voting=soft; total time=   1.1s\n",
      "[CV] END rf__max_depth=5, rf__n_estimators=20, svm__C=7, svm__gamma=0.1, voting=soft; total time=   1.1s\n",
      "[CV] END rf__max_depth=5, rf__n_estimators=20, svm__C=7, svm__gamma=0.1, voting=soft; total time=   1.0s\n",
      "[CV] END rf__max_depth=5, rf__n_estimators=20, svm__C=7, svm__gamma=0.1, voting=hard; total time=   1.1s\n",
      "[CV] END rf__max_depth=5, rf__n_estimators=20, svm__C=7, svm__gamma=0.1, voting=hard; total time=   0.9s\n",
      "[CV] END rf__max_depth=5, rf__n_estimators=20, svm__C=7, svm__gamma=0.1, voting=hard; total time=   1.0s\n",
      "[CV] END rf__max_depth=5, rf__n_estimators=20, svm__C=7, svm__gamma=0.3, voting=soft; total time=   1.1s\n",
      "[CV] END rf__max_depth=5, rf__n_estimators=20, svm__C=7, svm__gamma=0.3, voting=soft; total time=   1.0s\n",
      "[CV] END rf__max_depth=5, rf__n_estimators=20, svm__C=7, svm__gamma=0.3, voting=soft; total time=   1.1s\n",
      "[CV] END rf__max_depth=5, rf__n_estimators=20, svm__C=7, svm__gamma=0.3, voting=hard; total time=   0.7s\n",
      "[CV] END rf__max_depth=5, rf__n_estimators=20, svm__C=7, svm__gamma=0.3, voting=hard; total time=   1.0s\n",
      "[CV] END rf__max_depth=5, rf__n_estimators=20, svm__C=7, svm__gamma=0.3, voting=hard; total time=   1.1s\n",
      "[CV] END rf__max_depth=5, rf__n_estimators=20, svm__C=7, svm__gamma=0.5, voting=soft; total time=   1.1s\n",
      "[CV] END rf__max_depth=5, rf__n_estimators=20, svm__C=7, svm__gamma=0.5, voting=soft; total time=   1.0s\n",
      "[CV] END rf__max_depth=5, rf__n_estimators=20, svm__C=7, svm__gamma=0.5, voting=soft; total time=   0.8s\n",
      "[CV] END rf__max_depth=5, rf__n_estimators=20, svm__C=7, svm__gamma=0.5, voting=hard; total time=   1.1s\n",
      "[CV] END rf__max_depth=5, rf__n_estimators=20, svm__C=7, svm__gamma=0.5, voting=hard; total time=   1.1s\n",
      "[CV] END rf__max_depth=5, rf__n_estimators=20, svm__C=7, svm__gamma=0.5, voting=hard; total time=   1.1s\n",
      "[CV] END rf__max_depth=5, rf__n_estimators=20, svm__C=10, svm__gamma=0.1, voting=soft; total time=   1.0s\n",
      "[CV] END rf__max_depth=5, rf__n_estimators=20, svm__C=10, svm__gamma=0.1, voting=soft; total time=   0.8s\n",
      "[CV] END rf__max_depth=5, rf__n_estimators=20, svm__C=10, svm__gamma=0.1, voting=soft; total time=   1.0s\n",
      "[CV] END rf__max_depth=5, rf__n_estimators=20, svm__C=10, svm__gamma=0.1, voting=hard; total time=   1.1s\n",
      "[CV] END rf__max_depth=5, rf__n_estimators=20, svm__C=10, svm__gamma=0.1, voting=hard; total time=   1.0s\n",
      "[CV] END rf__max_depth=5, rf__n_estimators=20, svm__C=10, svm__gamma=0.1, voting=hard; total time=   0.9s\n",
      "[CV] END rf__max_depth=5, rf__n_estimators=20, svm__C=10, svm__gamma=0.3, voting=soft; total time=   0.8s\n",
      "[CV] END rf__max_depth=5, rf__n_estimators=20, svm__C=10, svm__gamma=0.3, voting=soft; total time=   1.0s\n",
      "[CV] END rf__max_depth=5, rf__n_estimators=20, svm__C=10, svm__gamma=0.3, voting=soft; total time=   1.0s\n",
      "[CV] END rf__max_depth=5, rf__n_estimators=20, svm__C=10, svm__gamma=0.3, voting=hard; total time=   1.0s\n",
      "[CV] END rf__max_depth=5, rf__n_estimators=20, svm__C=10, svm__gamma=0.3, voting=hard; total time=   1.1s\n",
      "[CV] END rf__max_depth=5, rf__n_estimators=20, svm__C=10, svm__gamma=0.3, voting=hard; total time=   0.7s\n",
      "[CV] END rf__max_depth=5, rf__n_estimators=20, svm__C=10, svm__gamma=0.5, voting=soft; total time=   1.0s\n",
      "[CV] END rf__max_depth=5, rf__n_estimators=20, svm__C=10, svm__gamma=0.5, voting=soft; total time=   1.0s\n",
      "[CV] END rf__max_depth=5, rf__n_estimators=20, svm__C=10, svm__gamma=0.5, voting=soft; total time=   1.1s\n",
      "[CV] END rf__max_depth=5, rf__n_estimators=20, svm__C=10, svm__gamma=0.5, voting=hard; total time=   1.2s\n",
      "[CV] END rf__max_depth=5, rf__n_estimators=20, svm__C=10, svm__gamma=0.5, voting=hard; total time=   0.8s\n",
      "[CV] END rf__max_depth=5, rf__n_estimators=20, svm__C=10, svm__gamma=0.5, voting=hard; total time=   1.0s\n",
      "[CV] END rf__max_depth=7, rf__n_estimators=5, svm__C=3, svm__gamma=0.1, voting=soft; total time=   1.0s\n",
      "[CV] END rf__max_depth=7, rf__n_estimators=5, svm__C=3, svm__gamma=0.1, voting=soft; total time=   1.0s\n",
      "[CV] END rf__max_depth=7, rf__n_estimators=5, svm__C=3, svm__gamma=0.1, voting=soft; total time=   1.2s\n",
      "[CV] END rf__max_depth=7, rf__n_estimators=5, svm__C=3, svm__gamma=0.1, voting=hard; total time=   0.7s\n",
      "[CV] END rf__max_depth=7, rf__n_estimators=5, svm__C=3, svm__gamma=0.1, voting=hard; total time=   1.0s\n",
      "[CV] END rf__max_depth=7, rf__n_estimators=5, svm__C=3, svm__gamma=0.1, voting=hard; total time=   1.0s\n",
      "[CV] END rf__max_depth=7, rf__n_estimators=5, svm__C=3, svm__gamma=0.3, voting=soft; total time=   1.1s\n",
      "[CV] END rf__max_depth=7, rf__n_estimators=5, svm__C=3, svm__gamma=0.3, voting=soft; total time=   1.1s\n",
      "[CV] END rf__max_depth=7, rf__n_estimators=5, svm__C=3, svm__gamma=0.3, voting=soft; total time=   0.6s\n",
      "[CV] END rf__max_depth=7, rf__n_estimators=5, svm__C=3, svm__gamma=0.3, voting=hard; total time=   0.9s\n",
      "[CV] END rf__max_depth=7, rf__n_estimators=5, svm__C=3, svm__gamma=0.3, voting=hard; total time=   1.0s\n",
      "[CV] END rf__max_depth=7, rf__n_estimators=5, svm__C=3, svm__gamma=0.3, voting=hard; total time=   1.0s\n",
      "[CV] END rf__max_depth=7, rf__n_estimators=5, svm__C=3, svm__gamma=0.5, voting=soft; total time=   1.1s\n",
      "[CV] END rf__max_depth=7, rf__n_estimators=5, svm__C=3, svm__gamma=0.5, voting=soft; total time=   0.6s\n",
      "[CV] END rf__max_depth=7, rf__n_estimators=5, svm__C=3, svm__gamma=0.5, voting=soft; total time=   0.9s\n",
      "[CV] END rf__max_depth=7, rf__n_estimators=5, svm__C=3, svm__gamma=0.5, voting=hard; total time=   0.9s\n",
      "[CV] END rf__max_depth=7, rf__n_estimators=5, svm__C=3, svm__gamma=0.5, voting=hard; total time=   1.0s\n",
      "[CV] END rf__max_depth=7, rf__n_estimators=5, svm__C=3, svm__gamma=0.5, voting=hard; total time=   1.2s\n",
      "[CV] END rf__max_depth=7, rf__n_estimators=5, svm__C=5, svm__gamma=0.1, voting=soft; total time=   0.6s\n",
      "[CV] END rf__max_depth=7, rf__n_estimators=5, svm__C=5, svm__gamma=0.1, voting=soft; total time=   0.9s\n",
      "[CV] END rf__max_depth=7, rf__n_estimators=5, svm__C=5, svm__gamma=0.1, voting=soft; total time=   1.0s\n",
      "[CV] END rf__max_depth=7, rf__n_estimators=5, svm__C=5, svm__gamma=0.1, voting=hard; total time=   1.1s\n",
      "[CV] END rf__max_depth=7, rf__n_estimators=5, svm__C=5, svm__gamma=0.1, voting=hard; total time=   1.0s\n",
      "[CV] END rf__max_depth=7, rf__n_estimators=5, svm__C=5, svm__gamma=0.1, voting=hard; total time=   0.7s\n",
      "[CV] END rf__max_depth=7, rf__n_estimators=5, svm__C=5, svm__gamma=0.3, voting=soft; total time=   0.7s\n",
      "[CV] END rf__max_depth=7, rf__n_estimators=5, svm__C=5, svm__gamma=0.3, voting=soft; total time=   0.9s\n",
      "[CV] END rf__max_depth=7, rf__n_estimators=5, svm__C=5, svm__gamma=0.3, voting=soft; total time=   1.0s\n",
      "[CV] END rf__max_depth=7, rf__n_estimators=5, svm__C=5, svm__gamma=0.3, voting=hard; total time=   1.0s\n",
      "[CV] END rf__max_depth=7, rf__n_estimators=5, svm__C=5, svm__gamma=0.3, voting=hard; total time=   0.9s\n",
      "[CV] END rf__max_depth=7, rf__n_estimators=5, svm__C=5, svm__gamma=0.3, voting=hard; total time=   0.6s\n",
      "[CV] END rf__max_depth=7, rf__n_estimators=5, svm__C=5, svm__gamma=0.5, voting=soft; total time=   0.8s\n",
      "[CV] END rf__max_depth=7, rf__n_estimators=5, svm__C=5, svm__gamma=0.5, voting=soft; total time=   1.1s\n",
      "[CV] END rf__max_depth=7, rf__n_estimators=5, svm__C=5, svm__gamma=0.5, voting=soft; total time=   1.0s\n",
      "[CV] END rf__max_depth=7, rf__n_estimators=5, svm__C=5, svm__gamma=0.5, voting=hard; total time=   1.0s\n",
      "[CV] END rf__max_depth=7, rf__n_estimators=5, svm__C=5, svm__gamma=0.5, voting=hard; total time=   0.9s\n",
      "[CV] END rf__max_depth=7, rf__n_estimators=5, svm__C=5, svm__gamma=0.5, voting=hard; total time=   0.8s\n",
      "[CV] END rf__max_depth=7, rf__n_estimators=5, svm__C=7, svm__gamma=0.1, voting=soft; total time=   1.6s\n",
      "[CV] END rf__max_depth=7, rf__n_estimators=5, svm__C=7, svm__gamma=0.1, voting=soft; total time=   1.5s\n",
      "[CV] END rf__max_depth=7, rf__n_estimators=5, svm__C=7, svm__gamma=0.1, voting=soft; total time=   1.0s\n"
     ]
    },
    {
     "name": "stdout",
     "output_type": "stream",
     "text": [
      "[CV] END rf__max_depth=7, rf__n_estimators=5, svm__C=7, svm__gamma=0.1, voting=hard; total time=   1.0s\n",
      "[CV] END rf__max_depth=7, rf__n_estimators=5, svm__C=7, svm__gamma=0.1, voting=hard; total time=   1.0s\n",
      "[CV] END rf__max_depth=7, rf__n_estimators=5, svm__C=7, svm__gamma=0.1, voting=hard; total time=   0.7s\n",
      "[CV] END rf__max_depth=7, rf__n_estimators=5, svm__C=7, svm__gamma=0.3, voting=soft; total time=   0.9s\n",
      "[CV] END rf__max_depth=7, rf__n_estimators=5, svm__C=7, svm__gamma=0.3, voting=soft; total time=   1.0s\n",
      "[CV] END rf__max_depth=7, rf__n_estimators=5, svm__C=7, svm__gamma=0.3, voting=soft; total time=   1.0s\n",
      "[CV] END rf__max_depth=7, rf__n_estimators=5, svm__C=7, svm__gamma=0.3, voting=hard; total time=   0.9s\n",
      "[CV] END rf__max_depth=7, rf__n_estimators=5, svm__C=7, svm__gamma=0.3, voting=hard; total time=   0.6s\n",
      "[CV] END rf__max_depth=7, rf__n_estimators=5, svm__C=7, svm__gamma=0.3, voting=hard; total time=   0.7s\n",
      "[CV] END rf__max_depth=7, rf__n_estimators=5, svm__C=7, svm__gamma=0.5, voting=soft; total time=   1.0s\n",
      "[CV] END rf__max_depth=7, rf__n_estimators=5, svm__C=7, svm__gamma=0.5, voting=soft; total time=   1.0s\n",
      "[CV] END rf__max_depth=7, rf__n_estimators=5, svm__C=7, svm__gamma=0.5, voting=soft; total time=   1.0s\n",
      "[CV] END rf__max_depth=7, rf__n_estimators=5, svm__C=7, svm__gamma=0.5, voting=hard; total time=   0.9s\n",
      "[CV] END rf__max_depth=7, rf__n_estimators=5, svm__C=7, svm__gamma=0.5, voting=hard; total time=   0.6s\n",
      "[CV] END rf__max_depth=7, rf__n_estimators=5, svm__C=7, svm__gamma=0.5, voting=hard; total time=   0.9s\n",
      "[CV] END rf__max_depth=7, rf__n_estimators=5, svm__C=10, svm__gamma=0.1, voting=soft; total time=   1.0s\n",
      "[CV] END rf__max_depth=7, rf__n_estimators=5, svm__C=10, svm__gamma=0.1, voting=soft; total time=   1.0s\n",
      "[CV] END rf__max_depth=7, rf__n_estimators=5, svm__C=10, svm__gamma=0.1, voting=soft; total time=   1.0s\n",
      "[CV] END rf__max_depth=7, rf__n_estimators=5, svm__C=10, svm__gamma=0.1, voting=hard; total time=   0.6s\n",
      "[CV] END rf__max_depth=7, rf__n_estimators=5, svm__C=10, svm__gamma=0.1, voting=hard; total time=   0.9s\n",
      "[CV] END rf__max_depth=7, rf__n_estimators=5, svm__C=10, svm__gamma=0.1, voting=hard; total time=   0.8s\n",
      "[CV] END rf__max_depth=7, rf__n_estimators=5, svm__C=10, svm__gamma=0.3, voting=soft; total time=   0.9s\n",
      "[CV] END rf__max_depth=7, rf__n_estimators=5, svm__C=10, svm__gamma=0.3, voting=soft; total time=   0.9s\n",
      "[CV] END rf__max_depth=7, rf__n_estimators=5, svm__C=10, svm__gamma=0.3, voting=soft; total time=   0.9s\n",
      "[CV] END rf__max_depth=7, rf__n_estimators=5, svm__C=10, svm__gamma=0.3, voting=hard; total time=   0.6s\n",
      "[CV] END rf__max_depth=7, rf__n_estimators=5, svm__C=10, svm__gamma=0.3, voting=hard; total time=   0.7s\n",
      "[CV] END rf__max_depth=7, rf__n_estimators=5, svm__C=10, svm__gamma=0.3, voting=hard; total time=   0.9s\n",
      "[CV] END rf__max_depth=7, rf__n_estimators=5, svm__C=10, svm__gamma=0.5, voting=soft; total time=   0.9s\n",
      "[CV] END rf__max_depth=7, rf__n_estimators=5, svm__C=10, svm__gamma=0.5, voting=soft; total time=   0.9s\n",
      "[CV] END rf__max_depth=7, rf__n_estimators=5, svm__C=10, svm__gamma=0.5, voting=soft; total time=   1.0s\n",
      "[CV] END rf__max_depth=7, rf__n_estimators=5, svm__C=10, svm__gamma=0.5, voting=hard; total time=   0.6s\n",
      "[CV] END rf__max_depth=7, rf__n_estimators=5, svm__C=10, svm__gamma=0.5, voting=hard; total time=   0.7s\n",
      "[CV] END rf__max_depth=7, rf__n_estimators=5, svm__C=10, svm__gamma=0.5, voting=hard; total time=   0.8s\n",
      "[CV] END rf__max_depth=7, rf__n_estimators=10, svm__C=3, svm__gamma=0.1, voting=soft; total time=   1.1s\n",
      "[CV] END rf__max_depth=7, rf__n_estimators=10, svm__C=3, svm__gamma=0.1, voting=soft; total time=   1.2s\n",
      "[CV] END rf__max_depth=7, rf__n_estimators=10, svm__C=3, svm__gamma=0.1, voting=soft; total time=   1.0s\n",
      "[CV] END rf__max_depth=7, rf__n_estimators=10, svm__C=3, svm__gamma=0.1, voting=hard; total time=   0.9s\n",
      "[CV] END rf__max_depth=7, rf__n_estimators=10, svm__C=3, svm__gamma=0.1, voting=hard; total time=   1.1s\n",
      "[CV] END rf__max_depth=7, rf__n_estimators=10, svm__C=3, svm__gamma=0.1, voting=hard; total time=   1.1s\n",
      "[CV] END rf__max_depth=7, rf__n_estimators=10, svm__C=3, svm__gamma=0.3, voting=soft; total time=   1.3s\n",
      "[CV] END rf__max_depth=7, rf__n_estimators=10, svm__C=3, svm__gamma=0.3, voting=soft; total time=   0.7s\n",
      "[CV] END rf__max_depth=7, rf__n_estimators=10, svm__C=3, svm__gamma=0.3, voting=soft; total time=   1.0s\n",
      "[CV] END rf__max_depth=7, rf__n_estimators=10, svm__C=3, svm__gamma=0.3, voting=hard; total time=   1.1s\n",
      "[CV] END rf__max_depth=7, rf__n_estimators=10, svm__C=3, svm__gamma=0.3, voting=hard; total time=   1.0s\n",
      "[CV] END rf__max_depth=7, rf__n_estimators=10, svm__C=3, svm__gamma=0.3, voting=hard; total time=   1.1s\n",
      "[CV] END rf__max_depth=7, rf__n_estimators=10, svm__C=3, svm__gamma=0.5, voting=soft; total time=   0.7s\n",
      "[CV] END rf__max_depth=7, rf__n_estimators=10, svm__C=3, svm__gamma=0.5, voting=soft; total time=   0.9s\n",
      "[CV] END rf__max_depth=7, rf__n_estimators=10, svm__C=3, svm__gamma=0.5, voting=soft; total time=   1.0s\n",
      "[CV] END rf__max_depth=7, rf__n_estimators=10, svm__C=3, svm__gamma=0.5, voting=hard; total time=   1.1s\n",
      "[CV] END rf__max_depth=7, rf__n_estimators=10, svm__C=3, svm__gamma=0.5, voting=hard; total time=   1.1s\n",
      "[CV] END rf__max_depth=7, rf__n_estimators=10, svm__C=3, svm__gamma=0.5, voting=hard; total time=   0.7s\n",
      "[CV] END rf__max_depth=7, rf__n_estimators=10, svm__C=5, svm__gamma=0.1, voting=soft; total time=   1.1s\n",
      "[CV] END rf__max_depth=7, rf__n_estimators=10, svm__C=5, svm__gamma=0.1, voting=soft; total time=   1.0s\n",
      "[CV] END rf__max_depth=7, rf__n_estimators=10, svm__C=5, svm__gamma=0.1, voting=soft; total time=   1.1s\n",
      "[CV] END rf__max_depth=7, rf__n_estimators=10, svm__C=5, svm__gamma=0.1, voting=hard; total time=   1.0s\n",
      "[CV] END rf__max_depth=7, rf__n_estimators=10, svm__C=5, svm__gamma=0.1, voting=hard; total time=   1.0s\n",
      "[CV] END rf__max_depth=7, rf__n_estimators=10, svm__C=5, svm__gamma=0.1, voting=hard; total time=   0.9s\n",
      "[CV] END rf__max_depth=7, rf__n_estimators=10, svm__C=5, svm__gamma=0.3, voting=soft; total time=   0.9s\n",
      "[CV] END rf__max_depth=7, rf__n_estimators=10, svm__C=5, svm__gamma=0.3, voting=soft; total time=   0.9s\n",
      "[CV] END rf__max_depth=7, rf__n_estimators=10, svm__C=5, svm__gamma=0.3, voting=soft; total time=   1.1s\n",
      "[CV] END rf__max_depth=7, rf__n_estimators=10, svm__C=5, svm__gamma=0.3, voting=hard; total time=   0.9s\n",
      "[CV] END rf__max_depth=7, rf__n_estimators=10, svm__C=5, svm__gamma=0.3, voting=hard; total time=   0.7s\n",
      "[CV] END rf__max_depth=7, rf__n_estimators=10, svm__C=5, svm__gamma=0.3, voting=hard; total time=   0.9s\n",
      "[CV] END rf__max_depth=7, rf__n_estimators=10, svm__C=5, svm__gamma=0.5, voting=soft; total time=   1.1s\n",
      "[CV] END rf__max_depth=7, rf__n_estimators=10, svm__C=5, svm__gamma=0.5, voting=soft; total time=   1.1s\n",
      "[CV] END rf__max_depth=7, rf__n_estimators=10, svm__C=5, svm__gamma=0.5, voting=soft; total time=   0.9s\n",
      "[CV] END rf__max_depth=7, rf__n_estimators=10, svm__C=5, svm__gamma=0.5, voting=hard; total time=   0.8s\n",
      "[CV] END rf__max_depth=7, rf__n_estimators=10, svm__C=5, svm__gamma=0.5, voting=hard; total time=   1.0s\n",
      "[CV] END rf__max_depth=7, rf__n_estimators=10, svm__C=5, svm__gamma=0.5, voting=hard; total time=   1.0s\n",
      "[CV] END rf__max_depth=7, rf__n_estimators=10, svm__C=7, svm__gamma=0.1, voting=soft; total time=   1.0s\n",
      "[CV] END rf__max_depth=7, rf__n_estimators=10, svm__C=7, svm__gamma=0.1, voting=soft; total time=   1.1s\n",
      "[CV] END rf__max_depth=7, rf__n_estimators=10, svm__C=7, svm__gamma=0.1, voting=soft; total time=   0.6s\n",
      "[CV] END rf__max_depth=7, rf__n_estimators=10, svm__C=7, svm__gamma=0.1, voting=hard; total time=   0.9s\n",
      "[CV] END rf__max_depth=7, rf__n_estimators=10, svm__C=7, svm__gamma=0.1, voting=hard; total time=   1.1s\n",
      "[CV] END rf__max_depth=7, rf__n_estimators=10, svm__C=7, svm__gamma=0.1, voting=hard; total time=   1.0s\n",
      "[CV] END rf__max_depth=7, rf__n_estimators=10, svm__C=7, svm__gamma=0.3, voting=soft; total time=   1.1s\n",
      "[CV] END rf__max_depth=7, rf__n_estimators=10, svm__C=7, svm__gamma=0.3, voting=soft; total time=   0.7s\n",
      "[CV] END rf__max_depth=7, rf__n_estimators=10, svm__C=7, svm__gamma=0.3, voting=soft; total time=   0.9s\n",
      "[CV] END rf__max_depth=7, rf__n_estimators=10, svm__C=7, svm__gamma=0.3, voting=hard; total time=   0.9s\n"
     ]
    },
    {
     "name": "stdout",
     "output_type": "stream",
     "text": [
      "[CV] END rf__max_depth=7, rf__n_estimators=10, svm__C=7, svm__gamma=0.3, voting=hard; total time=   1.0s\n",
      "[CV] END rf__max_depth=7, rf__n_estimators=10, svm__C=7, svm__gamma=0.3, voting=hard; total time=   1.0s\n",
      "[CV] END rf__max_depth=7, rf__n_estimators=10, svm__C=7, svm__gamma=0.5, voting=soft; total time=   0.6s\n",
      "[CV] END rf__max_depth=7, rf__n_estimators=10, svm__C=7, svm__gamma=0.5, voting=soft; total time=   0.9s\n",
      "[CV] END rf__max_depth=7, rf__n_estimators=10, svm__C=7, svm__gamma=0.5, voting=soft; total time=   0.9s\n",
      "[CV] END rf__max_depth=7, rf__n_estimators=10, svm__C=7, svm__gamma=0.5, voting=hard; total time=   1.0s\n",
      "[CV] END rf__max_depth=7, rf__n_estimators=10, svm__C=7, svm__gamma=0.5, voting=hard; total time=   1.1s\n",
      "[CV] END rf__max_depth=7, rf__n_estimators=10, svm__C=7, svm__gamma=0.5, voting=hard; total time=   0.7s\n",
      "[CV] END rf__max_depth=7, rf__n_estimators=10, svm__C=10, svm__gamma=0.1, voting=soft; total time=   0.8s\n",
      "[CV] END rf__max_depth=7, rf__n_estimators=10, svm__C=10, svm__gamma=0.1, voting=soft; total time=   1.0s\n",
      "[CV] END rf__max_depth=7, rf__n_estimators=10, svm__C=10, svm__gamma=0.1, voting=soft; total time=   1.0s\n",
      "[CV] END rf__max_depth=7, rf__n_estimators=10, svm__C=10, svm__gamma=0.1, voting=hard; total time=   0.9s\n",
      "[CV] END rf__max_depth=7, rf__n_estimators=10, svm__C=10, svm__gamma=0.1, voting=hard; total time=   1.0s\n",
      "[CV] END rf__max_depth=7, rf__n_estimators=10, svm__C=10, svm__gamma=0.1, voting=hard; total time=   1.2s\n",
      "[CV] END rf__max_depth=7, rf__n_estimators=10, svm__C=10, svm__gamma=0.3, voting=soft; total time=   0.9s\n",
      "[CV] END rf__max_depth=7, rf__n_estimators=10, svm__C=10, svm__gamma=0.3, voting=soft; total time=   1.0s\n",
      "[CV] END rf__max_depth=7, rf__n_estimators=10, svm__C=10, svm__gamma=0.3, voting=soft; total time=   1.0s\n",
      "[CV] END rf__max_depth=7, rf__n_estimators=10, svm__C=10, svm__gamma=0.3, voting=hard; total time=   1.0s\n",
      "[CV] END rf__max_depth=7, rf__n_estimators=10, svm__C=10, svm__gamma=0.3, voting=hard; total time=   1.0s\n",
      "[CV] END rf__max_depth=7, rf__n_estimators=10, svm__C=10, svm__gamma=0.3, voting=hard; total time=   0.6s\n",
      "[CV] END rf__max_depth=7, rf__n_estimators=10, svm__C=10, svm__gamma=0.5, voting=soft; total time=   0.8s\n",
      "[CV] END rf__max_depth=7, rf__n_estimators=10, svm__C=10, svm__gamma=0.5, voting=soft; total time=   1.0s\n",
      "[CV] END rf__max_depth=7, rf__n_estimators=10, svm__C=10, svm__gamma=0.5, voting=soft; total time=   1.0s\n",
      "[CV] END rf__max_depth=7, rf__n_estimators=10, svm__C=10, svm__gamma=0.5, voting=hard; total time=   1.0s\n",
      "[CV] END rf__max_depth=7, rf__n_estimators=10, svm__C=10, svm__gamma=0.5, voting=hard; total time=   0.8s\n",
      "[CV] END rf__max_depth=7, rf__n_estimators=10, svm__C=10, svm__gamma=0.5, voting=hard; total time=   0.8s\n",
      "[CV] END rf__max_depth=7, rf__n_estimators=20, svm__C=3, svm__gamma=0.1, voting=soft; total time=   1.2s\n",
      "[CV] END rf__max_depth=7, rf__n_estimators=20, svm__C=3, svm__gamma=0.1, voting=soft; total time=   1.3s\n",
      "[CV] END rf__max_depth=7, rf__n_estimators=20, svm__C=3, svm__gamma=0.1, voting=soft; total time=   1.2s\n",
      "[CV] END rf__max_depth=7, rf__n_estimators=20, svm__C=3, svm__gamma=0.1, voting=hard; total time=   1.0s\n",
      "[CV] END rf__max_depth=7, rf__n_estimators=20, svm__C=3, svm__gamma=0.1, voting=hard; total time=   1.1s\n",
      "[CV] END rf__max_depth=7, rf__n_estimators=20, svm__C=3, svm__gamma=0.1, voting=hard; total time=   1.1s\n",
      "[CV] END rf__max_depth=7, rf__n_estimators=20, svm__C=3, svm__gamma=0.3, voting=soft; total time=   1.1s\n",
      "[CV] END rf__max_depth=7, rf__n_estimators=20, svm__C=3, svm__gamma=0.3, voting=soft; total time=   1.1s\n",
      "[CV] END rf__max_depth=7, rf__n_estimators=20, svm__C=3, svm__gamma=0.3, voting=soft; total time=   0.8s\n",
      "[CV] END rf__max_depth=7, rf__n_estimators=20, svm__C=3, svm__gamma=0.3, voting=hard; total time=   1.0s\n",
      "[CV] END rf__max_depth=7, rf__n_estimators=20, svm__C=3, svm__gamma=0.3, voting=hard; total time=   1.1s\n",
      "[CV] END rf__max_depth=7, rf__n_estimators=20, svm__C=3, svm__gamma=0.3, voting=hard; total time=   1.1s\n",
      "[CV] END rf__max_depth=7, rf__n_estimators=20, svm__C=3, svm__gamma=0.5, voting=soft; total time=   1.3s\n",
      "[CV] END rf__max_depth=7, rf__n_estimators=20, svm__C=3, svm__gamma=0.5, voting=soft; total time=   0.9s\n",
      "[CV] END rf__max_depth=7, rf__n_estimators=20, svm__C=3, svm__gamma=0.5, voting=soft; total time=   0.9s\n",
      "[CV] END rf__max_depth=7, rf__n_estimators=20, svm__C=3, svm__gamma=0.5, voting=hard; total time=   1.4s\n",
      "[CV] END rf__max_depth=7, rf__n_estimators=20, svm__C=3, svm__gamma=0.5, voting=hard; total time=   1.1s\n",
      "[CV] END rf__max_depth=7, rf__n_estimators=20, svm__C=3, svm__gamma=0.5, voting=hard; total time=   1.0s\n",
      "[CV] END rf__max_depth=7, rf__n_estimators=20, svm__C=5, svm__gamma=0.1, voting=soft; total time=   1.1s\n",
      "[CV] END rf__max_depth=7, rf__n_estimators=20, svm__C=5, svm__gamma=0.1, voting=soft; total time=   0.8s\n",
      "[CV] END rf__max_depth=7, rf__n_estimators=20, svm__C=5, svm__gamma=0.1, voting=soft; total time=   1.1s\n",
      "[CV] END rf__max_depth=7, rf__n_estimators=20, svm__C=5, svm__gamma=0.1, voting=hard; total time=   1.2s\n",
      "[CV] END rf__max_depth=7, rf__n_estimators=20, svm__C=5, svm__gamma=0.1, voting=hard; total time=   1.1s\n",
      "[CV] END rf__max_depth=7, rf__n_estimators=20, svm__C=5, svm__gamma=0.1, voting=hard; total time=   1.1s\n",
      "[CV] END rf__max_depth=7, rf__n_estimators=20, svm__C=5, svm__gamma=0.3, voting=soft; total time=   0.8s\n",
      "[CV] END rf__max_depth=7, rf__n_estimators=20, svm__C=5, svm__gamma=0.3, voting=soft; total time=   1.0s\n",
      "[CV] END rf__max_depth=7, rf__n_estimators=20, svm__C=5, svm__gamma=0.3, voting=soft; total time=   1.0s\n",
      "[CV] END rf__max_depth=7, rf__n_estimators=20, svm__C=5, svm__gamma=0.3, voting=hard; total time=   1.1s\n",
      "[CV] END rf__max_depth=7, rf__n_estimators=20, svm__C=5, svm__gamma=0.3, voting=hard; total time=   1.0s\n",
      "[CV] END rf__max_depth=7, rf__n_estimators=20, svm__C=5, svm__gamma=0.3, voting=hard; total time=   0.8s\n",
      "[CV] END rf__max_depth=7, rf__n_estimators=20, svm__C=5, svm__gamma=0.5, voting=soft; total time=   1.1s\n",
      "[CV] END rf__max_depth=7, rf__n_estimators=20, svm__C=5, svm__gamma=0.5, voting=soft; total time=   1.3s\n",
      "[CV] END rf__max_depth=7, rf__n_estimators=20, svm__C=5, svm__gamma=0.5, voting=soft; total time=   1.1s\n",
      "[CV] END rf__max_depth=7, rf__n_estimators=20, svm__C=5, svm__gamma=0.5, voting=hard; total time=   1.1s\n",
      "[CV] END rf__max_depth=7, rf__n_estimators=20, svm__C=5, svm__gamma=0.5, voting=hard; total time=   0.8s\n",
      "[CV] END rf__max_depth=7, rf__n_estimators=20, svm__C=5, svm__gamma=0.5, voting=hard; total time=   0.9s\n",
      "[CV] END rf__max_depth=7, rf__n_estimators=20, svm__C=7, svm__gamma=0.1, voting=soft; total time=   1.1s\n",
      "[CV] END rf__max_depth=7, rf__n_estimators=20, svm__C=7, svm__gamma=0.1, voting=soft; total time=   1.1s\n",
      "[CV] END rf__max_depth=7, rf__n_estimators=20, svm__C=7, svm__gamma=0.1, voting=soft; total time=   1.1s\n",
      "[CV] END rf__max_depth=7, rf__n_estimators=20, svm__C=7, svm__gamma=0.1, voting=hard; total time=   1.0s\n",
      "[CV] END rf__max_depth=7, rf__n_estimators=20, svm__C=7, svm__gamma=0.1, voting=hard; total time=   0.8s\n",
      "[CV] END rf__max_depth=7, rf__n_estimators=20, svm__C=7, svm__gamma=0.1, voting=hard; total time=   1.1s\n",
      "[CV] END rf__max_depth=7, rf__n_estimators=20, svm__C=7, svm__gamma=0.3, voting=soft; total time=   1.1s\n",
      "[CV] END rf__max_depth=7, rf__n_estimators=20, svm__C=7, svm__gamma=0.3, voting=soft; total time=   1.1s\n",
      "[CV] END rf__max_depth=7, rf__n_estimators=20, svm__C=7, svm__gamma=0.3, voting=soft; total time=   0.9s\n",
      "[CV] END rf__max_depth=7, rf__n_estimators=20, svm__C=7, svm__gamma=0.3, voting=hard; total time=   0.9s\n",
      "[CV] END rf__max_depth=7, rf__n_estimators=20, svm__C=7, svm__gamma=0.3, voting=hard; total time=   0.8s\n",
      "[CV] END rf__max_depth=7, rf__n_estimators=20, svm__C=7, svm__gamma=0.3, voting=hard; total time=   1.0s\n",
      "[CV] END rf__max_depth=7, rf__n_estimators=20, svm__C=7, svm__gamma=0.5, voting=soft; total time=   1.1s\n",
      "[CV] END rf__max_depth=7, rf__n_estimators=20, svm__C=7, svm__gamma=0.5, voting=soft; total time=   1.2s\n",
      "[CV] END rf__max_depth=7, rf__n_estimators=20, svm__C=7, svm__gamma=0.5, voting=soft; total time=   0.8s\n",
      "[CV] END rf__max_depth=7, rf__n_estimators=20, svm__C=7, svm__gamma=0.5, voting=hard; total time=   0.9s\n"
     ]
    },
    {
     "name": "stdout",
     "output_type": "stream",
     "text": [
      "[CV] END rf__max_depth=7, rf__n_estimators=20, svm__C=7, svm__gamma=0.5, voting=hard; total time=   1.1s\n",
      "[CV] END rf__max_depth=7, rf__n_estimators=20, svm__C=7, svm__gamma=0.5, voting=hard; total time=   1.0s\n",
      "[CV] END rf__max_depth=7, rf__n_estimators=20, svm__C=10, svm__gamma=0.1, voting=soft; total time=   1.0s\n",
      "[CV] END rf__max_depth=7, rf__n_estimators=20, svm__C=10, svm__gamma=0.1, voting=soft; total time=   1.0s\n",
      "[CV] END rf__max_depth=7, rf__n_estimators=20, svm__C=10, svm__gamma=0.1, voting=soft; total time=   0.8s\n",
      "[CV] END rf__max_depth=7, rf__n_estimators=20, svm__C=10, svm__gamma=0.1, voting=hard; total time=   1.0s\n",
      "[CV] END rf__max_depth=7, rf__n_estimators=20, svm__C=10, svm__gamma=0.1, voting=hard; total time=   1.1s\n",
      "[CV] END rf__max_depth=7, rf__n_estimators=20, svm__C=10, svm__gamma=0.1, voting=hard; total time=   1.1s\n",
      "[CV] END rf__max_depth=7, rf__n_estimators=20, svm__C=10, svm__gamma=0.3, voting=soft; total time=   1.1s\n",
      "[CV] END rf__max_depth=7, rf__n_estimators=20, svm__C=10, svm__gamma=0.3, voting=soft; total time=   0.8s\n",
      "[CV] END rf__max_depth=7, rf__n_estimators=20, svm__C=10, svm__gamma=0.3, voting=soft; total time=   1.0s\n",
      "[CV] END rf__max_depth=7, rf__n_estimators=20, svm__C=10, svm__gamma=0.3, voting=hard; total time=   1.0s\n",
      "[CV] END rf__max_depth=7, rf__n_estimators=20, svm__C=10, svm__gamma=0.3, voting=hard; total time=   1.1s\n",
      "[CV] END rf__max_depth=7, rf__n_estimators=20, svm__C=10, svm__gamma=0.3, voting=hard; total time=   1.0s\n",
      "[CV] END rf__max_depth=7, rf__n_estimators=20, svm__C=10, svm__gamma=0.5, voting=soft; total time=   0.9s\n",
      "[CV] END rf__max_depth=7, rf__n_estimators=20, svm__C=10, svm__gamma=0.5, voting=soft; total time=   1.1s\n",
      "[CV] END rf__max_depth=7, rf__n_estimators=20, svm__C=10, svm__gamma=0.5, voting=soft; total time=   1.0s\n",
      "[CV] END rf__max_depth=7, rf__n_estimators=20, svm__C=10, svm__gamma=0.5, voting=hard; total time=   1.1s\n",
      "[CV] END rf__max_depth=7, rf__n_estimators=20, svm__C=10, svm__gamma=0.5, voting=hard; total time=   1.0s\n",
      "[CV] END rf__max_depth=7, rf__n_estimators=20, svm__C=10, svm__gamma=0.5, voting=hard; total time=   0.9s\n"
     ]
    },
    {
     "data": {
      "text/plain": [
       "GridSearchCV(cv=3,\n",
       "             estimator=VotingClassifier(estimators=[('log',\n",
       "                                                     LogisticRegression()),\n",
       "                                                    ('svm',\n",
       "                                                     SVC(probability=True)),\n",
       "                                                    ('rf',\n",
       "                                                     RandomForestClassifier())],\n",
       "                                        voting='soft', weights=[2, 3, 1]),\n",
       "             n_jobs=1,\n",
       "             param_grid={'rf__max_depth': [3, 5, 7],\n",
       "                         'rf__n_estimators': [5, 10, 20],\n",
       "                         'svm__C': [3, 5, 7, 10], 'svm__gamma': [0.1, 0.3, 0.5],\n",
       "                         'voting': ['soft', 'hard']},\n",
       "             scoring='accuracy', verbose=2)"
      ]
     },
     "execution_count": 26,
     "metadata": {},
     "output_type": "execute_result"
    }
   ],
   "source": [
    "model_grid.fit(X_train,y_train)"
   ]
  },
  {
   "cell_type": "code",
   "execution_count": 27,
   "id": "d833ce0e",
   "metadata": {},
   "outputs": [
    {
     "data": {
      "text/plain": [
       "{'rf__max_depth': 5,\n",
       " 'rf__n_estimators': 5,\n",
       " 'svm__C': 10,\n",
       " 'svm__gamma': 0.5,\n",
       " 'voting': 'soft'}"
      ]
     },
     "execution_count": 27,
     "metadata": {},
     "output_type": "execute_result"
    }
   ],
   "source": [
    "model_grid.best_params_"
   ]
  },
  {
   "cell_type": "code",
   "execution_count": 28,
   "id": "f4901dd6",
   "metadata": {},
   "outputs": [
    {
     "data": {
      "text/plain": [
       "VotingClassifier(estimators=[('log', LogisticRegression()),\n",
       "                             ('svm', SVC(C=10, gamma=0.5, probability=True)),\n",
       "                             ('rf',\n",
       "                              RandomForestClassifier(max_depth=5,\n",
       "                                                     n_estimators=5))],\n",
       "                 voting='soft', weights=[2, 3, 1])"
      ]
     },
     "execution_count": 28,
     "metadata": {},
     "output_type": "execute_result"
    }
   ],
   "source": [
    "#model_grid.best_estimator_"
   ]
  },
  {
   "cell_type": "code",
   "execution_count": 29,
   "id": "d218f8c1",
   "metadata": {},
   "outputs": [
    {
     "data": {
      "text/plain": [
       "0.7027484341716743"
      ]
     },
     "execution_count": 29,
     "metadata": {},
     "output_type": "execute_result"
    }
   ],
   "source": [
    "model_grid.best_score_"
   ]
  },
  {
   "cell_type": "code",
   "execution_count": 31,
   "id": "dc22cdd7",
   "metadata": {},
   "outputs": [],
   "source": [
    "model_best_estimator = model_grid.best_estimator_"
   ]
  },
  {
   "cell_type": "markdown",
   "id": "c096aaea",
   "metadata": {},
   "source": [
    "### Save Model"
   ]
  },
  {
   "cell_type": "code",
   "execution_count": 33,
   "id": "6b36d6b7",
   "metadata": {},
   "outputs": [],
   "source": [
    "pickle.dump(model_best_estimator,open('models/machinelearning_face_person_identity2.pkl',mode='wb'))"
   ]
  },
  {
   "cell_type": "code",
   "execution_count": null,
   "id": "69295277",
   "metadata": {},
   "outputs": [],
   "source": []
  }
 ],
 "metadata": {
  "kernelspec": {
   "display_name": "Python 3 (ipykernel)",
   "language": "python",
   "name": "python3"
  },
  "language_info": {
   "codemirror_mode": {
    "name": "ipython",
    "version": 3
   },
   "file_extension": ".py",
   "mimetype": "text/x-python",
   "name": "python",
   "nbconvert_exporter": "python",
   "pygments_lexer": "ipython3",
   "version": "3.8.2"
  }
 },
 "nbformat": 4,
 "nbformat_minor": 5
}
